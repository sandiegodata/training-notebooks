{
 "metadata": {
  "name": "",
  "signature": "sha256:35a7fb1b11e1de4325acf9b5019a5ba3cb9a2a2271b7b943e76362c3095b3d30"
 },
 "nbformat": 3,
 "nbformat_minor": 0,
 "worksheets": [
  {
   "cells": [
    {
     "cell_type": "code",
     "collapsed": false,
     "input": [
      "import numpy as np\n",
      "import pandas as pd\n",
      "import matplotlib.pyplot as plt\n",
      "\n",
      "%pylab inline\n",
      "rcParams['figure.figsize'] = (6, 6) #wide graphs by default\n",
      "pd.set_option('display.max_columns', 100)\n",
      "\n",
      "\n",
      "from __future__ import print_function\n",
      "print('Pandas version ' + pd.__version__)\n",
      "print('Numpy version ' + np.__version__)\n",
      "from __future__ import division"
     ],
     "language": "python",
     "metadata": {},
     "outputs": []
    },
    {
     "cell_type": "heading",
     "level": 1,
     "metadata": {},
     "source": [
      "Variance and correlation"
     ]
    },
    {
     "cell_type": "heading",
     "level": 2,
     "metadata": {},
     "source": [
      "Variance and covariance"
     ]
    },
    {
     "cell_type": "markdown",
     "metadata": {},
     "source": [
      "$$\\operatorname{Var}(X) =\\sigma^2 =\\int (x-\\mu)^2  f(x)  dx =\\int x^2  f(x)  dx - \\mu^2$$\n",
      "\n",
      "Variance is the second moment of a distribution. The general moment formula is: \n",
      "\n",
      "$$\\mu_n=\\int_{-\\infty}^\\infty (x - c)^n\\,f(x)\\,dx.$$\n",
      "\n",
      "For discrete points, \n",
      "\n",
      "$$\\operatorname{Var}(X) = \\sum_{i=1}^n p_i\\cdot(x_i - \\mu)^2 = \\sum_{i=1}^n (p_i\\cdot x_i^2) - \\mu^2$$\n",
      "\n",
      "For equally likely values:\n",
      "\n",
      "$$\\operatorname{Var}(X) = \\frac{1}{n} \\sum_{i=1}^n (x_i - \\mu)^2$$\n",
      "\n",
      "http://en.wikipedia.org/wiki/Variance"
     ]
    },
    {
     "cell_type": "markdown",
     "metadata": {},
     "source": [
      "##Correlation\n",
      "\n",
      "$$ \\rho_{X,Y}={\\mathrm{cov}(X,Y) \\over \\sigma_X \\sigma_Y} ={E[(X-\\mu_X)(Y-\\mu_Y)] \\over \\sigma_X\\sigma_Y} $$\n"
     ]
    },
    {
     "cell_type": "code",
     "collapsed": false,
     "input": [
      "N = 200\n",
      "s1 = pd.Series(np.random.normal(scale=5.0, size= N))\n"
     ],
     "language": "python",
     "metadata": {},
     "outputs": []
    },
    {
     "cell_type": "code",
     "collapsed": false,
     "input": [
      "s1.plot()"
     ],
     "language": "python",
     "metadata": {},
     "outputs": []
    },
    {
     "cell_type": "code",
     "collapsed": false,
     "input": [
      "s1.hist(bins=50)"
     ],
     "language": "python",
     "metadata": {},
     "outputs": []
    },
    {
     "cell_type": "markdown",
     "metadata": {},
     "source": [
      "Variance is the square of the Standard Deviation"
     ]
    },
    {
     "cell_type": "code",
     "collapsed": false,
     "input": [
      "print (s1.var(), s1.std()**2, s1.std())"
     ],
     "language": "python",
     "metadata": {},
     "outputs": []
    },
    {
     "cell_type": "markdown",
     "metadata": {},
     "source": [
      "Since s1 is a Normal distribution, 68% of the distribution should be between -\ud835\udf0e and \ud835\udf0e"
     ]
    },
    {
     "cell_type": "code",
     "collapsed": false,
     "input": [
      "sd = s1.std()\n",
      "in_std = s1[ (s1 < sd ) & (s1 > -sd )].count()\n",
      "total = s1.count()\n",
      "print (in_std, total, in_std / total )"
     ],
     "language": "python",
     "metadata": {},
     "outputs": []
    },
    {
     "cell_type": "markdown",
     "metadata": {},
     "source": [
      "Just for fun, let's see a scatterplot of s1 and s2"
     ]
    },
    {
     "cell_type": "code",
     "collapsed": false,
     "input": [
      "s2 = pd.Series(np.random.normal(scale=2.0, size = N))\n",
      "df = pd.DataFrame(dict(x=s1, y=s2))\n",
      "df.plot(kind='scatter', x='x',y='y', s=3)"
     ],
     "language": "python",
     "metadata": {},
     "outputs": []
    },
    {
     "cell_type": "code",
     "collapsed": false,
     "input": [
      "dfb = pd.DataFrame(dict(x=pd.Series(np.random.normal(scale=5.0, size= 10000)),\n",
      "                        y=pd.Series(np.random.normal(scale=5.0, size= 10000))\n",
      "                        ))\n",
      "dfb.plot(kind='hexbin', x='x', y='y', gridsize=50)"
     ],
     "language": "python",
     "metadata": {},
     "outputs": []
    },
    {
     "cell_type": "markdown",
     "metadata": {},
     "source": [
      "Same idea, but using Seaborn, which also can give us the distributions and a hex bin heatmap."
     ]
    },
    {
     "cell_type": "code",
     "collapsed": false,
     "input": [
      "import seaborn as sns\n",
      "\n",
      "with sns.axes_style(\"white\"):\n",
      "    sns.jointplot(dfb.x, dfb.y, kind=\"hex\", size = 6);"
     ],
     "language": "python",
     "metadata": {},
     "outputs": []
    },
    {
     "cell_type": "markdown",
     "metadata": {},
     "source": [
      "Now, lets look a correlations between series, using perturbed data. "
     ]
    },
    {
     "cell_type": "code",
     "collapsed": false,
     "input": [
      "l1 = pd.Series(np.linspace(0,100,num=N) + 10)\n",
      "l2 = pd.Series(np.linspace(-20,20,num=N) )\n",
      "l1.plot()\n",
      "l2.plot()"
     ],
     "language": "python",
     "metadata": {},
     "outputs": []
    },
    {
     "cell_type": "code",
     "collapsed": false,
     "input": [
      "l1.corr(l2)"
     ],
     "language": "python",
     "metadata": {},
     "outputs": []
    },
    {
     "cell_type": "markdown",
     "metadata": {},
     "source": [
      "Use that linear series and the noise series to make a linear series with some noice"
     ]
    },
    {
     "cell_type": "markdown",
     "metadata": {},
     "source": [
      "And another with a slow, noisy sinusoidal variation."
     ]
    },
    {
     "cell_type": "code",
     "collapsed": false,
     "input": [
      "n1 = pd.Series(np.random.normal(scale=5.0, size= N))\n",
      "n2 = pd.Series(np.random.normal(scale=5.0, size= N))\n",
      "n1.plot()\n",
      "n2.plot()"
     ],
     "language": "python",
     "metadata": {},
     "outputs": []
    },
    {
     "cell_type": "code",
     "collapsed": false,
     "input": [
      "print(n1.corr(n2))\n",
      "print(n1.autocorr())\n",
      "print(n2.autocorr())"
     ],
     "language": "python",
     "metadata": {},
     "outputs": []
    },
    {
     "cell_type": "code",
     "collapsed": false,
     "input": [
      "ln1 = l1 + n1 - n1.mean()\n",
      "ln2 = -l1 + n2 - n2.mean() \n",
      "ln1.plot()\n",
      "ln2.plot()"
     ],
     "language": "python",
     "metadata": {},
     "outputs": []
    },
    {
     "cell_type": "code",
     "collapsed": false,
     "input": [
      "print(ln1.corr(ln2))\n",
      "print(ln1.autocorr())\n",
      "print(ln2.autocorr())"
     ],
     "language": "python",
     "metadata": {},
     "outputs": []
    },
    {
     "cell_type": "code",
     "collapsed": false,
     "input": [
      "lsn1 = l1 + n1 - n1.mean() + (25.*sin(l1/7))\n",
      "lsn2 = -l1 + n2 - n2.mean() + (15.*sin(l1/5))\n",
      "lsn1.plot()\n",
      "lsn2.plot()"
     ],
     "language": "python",
     "metadata": {},
     "outputs": []
    },
    {
     "cell_type": "code",
     "collapsed": false,
     "input": [
      "print(lsn1.corr(lsn2))\n",
      "print(lsn1.autocorr())\n",
      "print(lsn2.autocorr())"
     ],
     "language": "python",
     "metadata": {},
     "outputs": []
    },
    {
     "cell_type": "code",
     "collapsed": false,
     "input": [
      "from pandas.tools.plotting import scatter_matrix\n",
      "\n",
      "df = pd.DataFrame( dict(\n",
      "    n1 = n1, \n",
      "    n2 = n2, \n",
      "    l1 = l1, \n",
      "    ln1 = ln1,\n",
      "    ln2 = ln2, \n",
      "    lsn1 = lsn1,\n",
      "    lsn2 = lsn2\n",
      "))"
     ],
     "language": "python",
     "metadata": {},
     "outputs": []
    },
    {
     "cell_type": "code",
     "collapsed": false,
     "input": [
      "df.plot()"
     ],
     "language": "python",
     "metadata": {},
     "outputs": []
    },
    {
     "cell_type": "code",
     "collapsed": false,
     "input": [
      "df.plot(kind='scatter', x='ln1',y='ln2')"
     ],
     "language": "python",
     "metadata": {},
     "outputs": []
    },
    {
     "cell_type": "code",
     "collapsed": false,
     "input": [
      "df.cov()"
     ],
     "language": "python",
     "metadata": {},
     "outputs": []
    },
    {
     "cell_type": "markdown",
     "metadata": {},
     "source": [
      "Since $$\\operatorname{Var}(X) = \\operatorname{cov}(X, X) $$ and the variance is the square of the standard deviation, the diagonal of the covariance matrix should be the square of the standard deviations. "
     ]
    },
    {
     "cell_type": "code",
     "collapsed": false,
     "input": [
      "df.std() ** 2"
     ],
     "language": "python",
     "metadata": {},
     "outputs": []
    },
    {
     "cell_type": "code",
     "collapsed": false,
     "input": [
      "scatter_matrix(df, figsize=(15, 15))\n",
      "plt.show()"
     ],
     "language": "python",
     "metadata": {},
     "outputs": []
    },
    {
     "cell_type": "markdown",
     "metadata": {},
     "source": [
      "##Correlation\n",
      "\n",
      "Pearson's product-moment coefficient, aka r. \n",
      "\n",
      "$$ \\rho_{X,Y}={\\mathrm{cov}(X,Y) \\over \\sigma_X \\sigma_Y} ={E[(X-\\mu_X)(Y-\\mu_Y)] \\over \\sigma_X\\sigma_Y} $$\n"
     ]
    },
    {
     "cell_type": "code",
     "collapsed": false,
     "input": [
      "df.corr()"
     ],
     "language": "python",
     "metadata": {},
     "outputs": []
    },
    {
     "cell_type": "markdown",
     "metadata": {},
     "source": [
      "Let's check that the formula for Pearson's is correct by verifying that \n",
      "$${\\mathrm{cov}(X,X) \\over \\sigma_X \\sigma_X} = 1 $$. We'll extract the diagonal from the  covariance matrix and divide by the square of the standard deviation. "
     ]
    },
    {
     "cell_type": "code",
     "collapsed": false,
     "input": [
      "cov_diag = pd.Series([df.cov().ix[x,x] for x in range(len(df.cov()))], index=df.columns)\n",
      "cov_diag / df.std()**2"
     ],
     "language": "python",
     "metadata": {},
     "outputs": []
    },
    {
     "cell_type": "heading",
     "level": 1,
     "metadata": {},
     "source": [
      "Regression"
     ]
    },
    {
     "cell_type": "markdown",
     "metadata": {},
     "source": [
      "Ordinary Least Squares linear regression tries to fit a line to a dataset by finding the parameters that minimize the squares of the differences between the line and each point. \n",
      "\n"
     ]
    },
    {
     "cell_type": "code",
     "collapsed": false,
     "input": [
      "import statsmodels.api as sm\n",
      "import statsmodels.formula.api as smf\n",
      "from statsmodels.regression.linear_model import OLS\n",
      "#model = OLS(formula=\"ln1 ~ lsn1\", data=dfsa)\n",
      "model = sm.OLS(df.lsn1, sm.add_constant(df.l1))\n",
      "r = model.fit()\n",
      "r.summary()"
     ],
     "language": "python",
     "metadata": {},
     "outputs": []
    },
    {
     "cell_type": "code",
     "collapsed": false,
     "input": [
      "plt.scatter(l1, lsn1, color='r')\n",
      "predictions = r.predict()\n",
      "plt.plot(l1, predictions, color='b')\n",
      "plt.show()\n"
     ],
     "language": "python",
     "metadata": {},
     "outputs": []
    },
    {
     "cell_type": "markdown",
     "metadata": {},
     "source": [
      "## Practice\n",
      "Let's pracice using data about [tooth growth of guinea pigs](http://vincentarelbundock.github.io/Rdatasets/doc/datasets/ToothGrowth.html). Using this dataset, explore the connection between the length of tooth growth and the dose. "
     ]
    },
    {
     "cell_type": "code",
     "collapsed": false,
     "input": [
      "df = pd.read_csv('http://vincentarelbundock.github.io/Rdatasets/csv/datasets/ToothGrowth.csv')\n"
     ],
     "language": "python",
     "metadata": {},
     "outputs": []
    },
    {
     "cell_type": "markdown",
     "metadata": {},
     "source": [
      "Here is another dataset to explore, [data about milk composition](http://vincentarelbundock.github.io/Rdatasets/doc/robustbase/milk.html)"
     ]
    },
    {
     "cell_type": "code",
     "collapsed": false,
     "input": [
      "df = pd.read_csv('http://vincentarelbundock.github.io/Rdatasets/csv/robustbase/milk.csv')"
     ],
     "language": "python",
     "metadata": {},
     "outputs": []
    }
   ],
   "metadata": {}
  }
 ]
}