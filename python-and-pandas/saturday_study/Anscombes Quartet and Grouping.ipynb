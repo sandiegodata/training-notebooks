{
 "metadata": {
  "name": "",
  "signature": "sha256:5ec6773225c42ccda30c96c796b1893584886777d708d79f01b1abadc2b69e09"
 },
 "nbformat": 3,
 "nbformat_minor": 0,
 "worksheets": [
  {
   "cells": [
    {
     "cell_type": "heading",
     "level": 1,
     "metadata": {},
     "source": [
      "Anscombe's Quartet, Grouping and Multi-Indexing"
     ]
    },
    {
     "cell_type": "code",
     "collapsed": false,
     "input": [
      "%matplotlib inline\n",
      "import numpy as np\n",
      "import pandas as pd\n",
      "import matplotlib.pyplot as plt\n",
      "\n",
      "pd.set_option('display.max_columns', 100)\n",
      "\n",
      "\n",
      "from __future__ import print_function\n",
      "print('Pandas version ' + pd.__version__)\n",
      "print('Numpy version ' + np.__version__)\n"
     ],
     "language": "python",
     "metadata": {},
     "outputs": []
    },
    {
     "cell_type": "markdown",
     "metadata": {},
     "source": [
      "Anscombe's Quartet is an interesting dataset that demonstrates the need for ploting in the explorator data analysis process. It also has some fatures that make it a good dataset for demonstrating Pandas' grouping and multi-index features. "
     ]
    },
    {
     "cell_type": "code",
     "collapsed": false,
     "input": [
      "url='https://gist.githubusercontent.com/ericbusboom/b2ac1d366c005cd2ed8c/raw/177091875a90311ee130cf903dcc7934fcc0e973/anscombes.csv'\n",
      "aq = pd.read_csv(url, index_col='id')\n"
     ],
     "language": "python",
     "metadata": {},
     "outputs": []
    },
    {
     "cell_type": "markdown",
     "metadata": {},
     "source": [
      "First, let's explore some of the descriptive statistics for the datasets. "
     ]
    },
    {
     "cell_type": "code",
     "collapsed": false,
     "input": [
      "aq.head()"
     ],
     "language": "python",
     "metadata": {},
     "outputs": []
    },
    {
     "cell_type": "code",
     "collapsed": false,
     "input": [
      "aq.dataset.unique()"
     ],
     "language": "python",
     "metadata": {},
     "outputs": []
    },
    {
     "cell_type": "markdown",
     "metadata": {},
     "source": [
      "Lets get the mean for each of the groups. We'll do it the hard way first. "
     ]
    },
    {
     "cell_type": "code",
     "collapsed": false,
     "input": [
      "for ds in ('I','II','III','IV'):\n",
      "    print(\"{} {}\".format(ds, aq[aq.dataset == ds]['y'].mean()))"
     ],
     "language": "python",
     "metadata": {},
     "outputs": []
    },
    {
     "cell_type": "markdown",
     "metadata": {},
     "source": [
      "Of course, there is an easier way"
     ]
    },
    {
     "cell_type": "code",
     "collapsed": false,
     "input": [
      "aq.groupby('dataset').mean()"
     ],
     "language": "python",
     "metadata": {},
     "outputs": []
    },
    {
     "cell_type": "code",
     "collapsed": false,
     "input": [
      "aq.groupby('dataset').std()"
     ],
     "language": "python",
     "metadata": {},
     "outputs": []
    },
    {
     "cell_type": "markdown",
     "metadata": {},
     "source": [
      "Very interesting. The mean an the standard deviation are the same for all datasets. "
     ]
    },
    {
     "cell_type": "code",
     "collapsed": false,
     "input": [
      "aq.groupby('dataset').corr()"
     ],
     "language": "python",
     "metadata": {},
     "outputs": []
    },
    {
     "cell_type": "markdown",
     "metadata": {},
     "source": [
      "This gets us the information we are looking for, but it is hard to read, since most of the infmration is redundant. Let's see if we can select just the sinve (x,y) correlations for each dataset group. First, notice that the `aq` dataframe has a heirarchical index"
     ]
    },
    {
     "cell_type": "code",
     "collapsed": false,
     "input": [
      "aqc = aq.groupby('dataset').corr()\n",
      "aqc.index"
     ],
     "language": "python",
     "metadata": {},
     "outputs": []
    },
    {
     "cell_type": "markdown",
     "metadata": {},
     "source": [
      "We'll name the second level of the index, then we can use the cross-section method, xs() to get the inner level. "
     ]
    },
    {
     "cell_type": "code",
     "collapsed": false,
     "input": [
      "\n",
      "aqc.index.names = ['dataset','var1']\n",
      "aqc.index"
     ],
     "language": "python",
     "metadata": {},
     "outputs": []
    },
    {
     "cell_type": "markdown",
     "metadata": {},
     "source": [
      "We can select inner levels of the multi index with the xs() method. \n",
      "See http://pandas.pydata.org/pandas-docs/stable/advanced.html#cross-section"
     ]
    },
    {
     "cell_type": "code",
     "collapsed": false,
     "input": [
      "aqc.xs('x',level='var1')['y']"
     ],
     "language": "python",
     "metadata": {},
     "outputs": []
    },
    {
     "cell_type": "heading",
     "level": 1,
     "metadata": {},
     "source": [
      "Plotting the Quartet"
     ]
    },
    {
     "cell_type": "markdown",
     "metadata": {},
     "source": [
      "Now we've seen that the four datasets of the quartet have the same descriptive statistics, so it's time for the punchline. "
     ]
    },
    {
     "cell_type": "code",
     "collapsed": false,
     "input": [
      "import seaborn as sns # if fails, pip install seaborn\n",
      "sns.lmplot(\"x\", \"y\", col=\"dataset\", hue=\"dataset\", data=aq, col_wrap=2, ci=None, size=4,\n",
      "           scatter_kws={\"s\": 50, \"alpha\": 1})"
     ],
     "language": "python",
     "metadata": {},
     "outputs": []
    }
   ],
   "metadata": {}
  }
 ]
}