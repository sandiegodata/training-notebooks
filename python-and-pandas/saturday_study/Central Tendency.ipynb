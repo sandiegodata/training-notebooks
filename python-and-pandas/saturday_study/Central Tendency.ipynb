{
 "metadata": {
  "name": "",
  "signature": "sha256:3dfb00aed213ad9bd196fdb2a82a75369fbbac31c6d6d3116b1b2f011c3ab2ad"
 },
 "nbformat": 3,
 "nbformat_minor": 0,
 "worksheets": [
  {
   "cells": [
    {
     "cell_type": "heading",
     "level": 1,
     "metadata": {},
     "source": [
      "Central Tendency with Pandas"
     ]
    },
    {
     "cell_type": "markdown",
     "metadata": {},
     "source": [
      "In this example, we will briefly explore the Pandas features for examining the measures of central tendency, mean, median and mode. "
     ]
    },
    {
     "cell_type": "code",
     "collapsed": false,
     "input": [
      "%matplotlib inline\n",
      "import numpy as np\n",
      "import pandas as pd\n",
      "import matplotlib.pyplot as plt\n",
      "pd.set_option('display.max_columns', 100)\n",
      "\n",
      "try:\n",
      "    print 'Pandas version ' + pd.__version__\n",
      "    print 'Numpy version ' + np.__version__\n",
      "except:\n",
      "    print ('Pandas version ' + pd.__version__)\n",
      "    print ('Numpy version ' + np.__version__)\n"
     ],
     "language": "python",
     "metadata": {},
     "outputs": [
      {
       "output_type": "stream",
       "stream": "stdout",
       "text": [
        "Pandas version 0.15.1\n",
        "Numpy version 1.8.0\n"
       ]
      }
     ],
     "prompt_number": 124
    },
    {
     "cell_type": "markdown",
     "metadata": {},
     "source": [
      "For this example, we'll use wage data from the California Community Colleges:\n",
      "\n",
      "http://data.civicknowledge.com/bundles/d02l001.html\n",
      "\n",
      "We'll use the [Colleges table](http://data.civicknowledge.com/bundles/d02l001/tables/t02l02001.html)\n",
      "\n",
      "First, we need to download the dataset, as a Sqlite database, from our S3 bucket. The file is compressed, so you'll either have to download it with a web browser, use the `--compres`s option in curl, or import the sdipylib module to use the download function. \n",
      "\n",
      "If you want to download it in you browser, which should automatically decompress it, here is the link:\n",
      "\n",
      "http://s3.sandiegodata.org/library/cccco.edu/wageoutcomes-0.0.1/summary.db\n",
      "\n"
     ]
    },
    {
     "cell_type": "code",
     "collapsed": false,
     "input": [
      "# !curl -O --compress http://s3.sandiegodata.org/library/cde.ca.gov/api-combined-0.1.4/api_base.db\n",
      "# Or\n",
      "!pip install sdipylib \n",
      "import sdipylib # pip install sdipylib if this fails\n",
      "sdipylib.url.download_ambry_db('http://s3.sandiegodata.org/library/cccco.edu/wageoutcomes-0.0.1/summary.db')"
     ],
     "language": "python",
     "metadata": {},
     "outputs": []
    },
    {
     "cell_type": "code",
     "collapsed": false,
     "input": [
      "import sqlite3\n",
      "con = sqlite3.connect(\"summary.db\")\n",
      "df = pd.read_sql(\"SELECT * FROM summary\", con)\n",
      "df.head()"
     ],
     "language": "python",
     "metadata": {},
     "outputs": []
    },
    {
     "cell_type": "markdown",
     "metadata": {},
     "source": [
      "We can use the `sum()` method to get the sums of all the values in the colums. This will only be meaningful for values that are counts, such as 'numawards' or 'matched2after'"
     ]
    },
    {
     "cell_type": "code",
     "collapsed": false,
     "input": [
      "df[df.code == 'Accounting-050200'].sum()"
     ],
     "language": "python",
     "metadata": {},
     "outputs": []
    },
    {
     "cell_type": "markdown",
     "metadata": {},
     "source": [
      "Clearly something is wrong. The problem is that some of the columns have '-' in them to indicate a lack of a value. Thie means that the colum is a string, and sum() on a string is concatenation. We'll have to convert the colums values to floats, and throw out the values that aren't valid. "
     ]
    },
    {
     "cell_type": "code",
     "collapsed": false,
     "input": [
      "def float_maybe(x): \n",
      "    try: \n",
      "        return float(x)\n",
      "    except ValueError: \n",
      "        return None\n",
      "    \n",
      "for c in ['wage2yearbefore', 'matched2after', 'wage5yearafter', 'matched5after', 'wage2yearafter', 'matched2before'  ]:\n",
      "    df[c] = df[c].apply(float_maybe)\n",
      "    \n",
      "\n",
      "    "
     ],
     "language": "python",
     "metadata": {},
     "outputs": []
    },
    {
     "cell_type": "code",
     "collapsed": false,
     "input": [
      "wages = df[['wage2yearbefore','wage2yearafter','wage5yearafter']]\n",
      "print wages.count()\n",
      "wages = wages.dropna()\n",
      "print wages.count()"
     ],
     "language": "python",
     "metadata": {},
     "outputs": []
    },
    {
     "cell_type": "code",
     "collapsed": false,
     "input": [
      "wages.describe()"
     ],
     "language": "python",
     "metadata": {},
     "outputs": []
    },
    {
     "cell_type": "markdown",
     "metadata": {},
     "source": [
      "A Boxplot shows all of the same information at the `describe()` function, including the min, max, quartiles and mean. It also shows outliers that were excluded from the min and max lines. although these are not excluded  from the min and max in `describe()`."
     ]
    },
    {
     "cell_type": "code",
     "collapsed": false,
     "input": [
      "try:\n",
      "    wages.boxplot(return_type='axes')\n",
      "except TypeError:\n",
      "    wages.boxplot()"
     ],
     "language": "python",
     "metadata": {},
     "outputs": []
    },
    {
     "cell_type": "code",
     "collapsed": false,
     "input": [
      "wages.plot(kind='kde')"
     ],
     "language": "python",
     "metadata": {},
     "outputs": []
    },
    {
     "cell_type": "code",
     "collapsed": false,
     "input": [
      "wages.hist(bins=50, figsize=(15, 8))"
     ],
     "language": "python",
     "metadata": {},
     "outputs": []
    },
    {
     "cell_type": "code",
     "collapsed": false,
     "input": [
      "df.mean()"
     ],
     "language": "python",
     "metadata": {},
     "outputs": []
    },
    {
     "cell_type": "code",
     "collapsed": false,
     "input": [
      "wages.mean()"
     ],
     "language": "python",
     "metadata": {},
     "outputs": []
    },
    {
     "cell_type": "code",
     "collapsed": false,
     "input": [
      "wages.median()"
     ],
     "language": "python",
     "metadata": {},
     "outputs": []
    },
    {
     "cell_type": "code",
     "collapsed": false,
     "input": [
      "wages.mode()"
     ],
     "language": "python",
     "metadata": {},
     "outputs": []
    }
   ],
   "metadata": {}
  }
 ]
}