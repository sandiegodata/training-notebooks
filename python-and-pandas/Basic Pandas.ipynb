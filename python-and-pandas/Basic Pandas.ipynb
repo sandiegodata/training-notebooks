{
 "metadata": {
  "name": "",
  "signature": "sha256:f37ce424bdad126f39f01e784dd9222acb4b27fc4546ebb1f2009168a51e2a65"
 },
 "nbformat": 3,
 "nbformat_minor": 0,
 "worksheets": [
  {
   "cells": [
    {
     "cell_type": "markdown",
     "metadata": {},
     "source": [
      "# Basic Pandas\n",
      "\n",
      "Pandas has a **lot** of functionality, so we'll only cover a very small fraction of what you can do. \n",
      "\n",
      "**Documentation**: Check out the (very readable) [pandas docs](http://pandas.pydata.org/pandas-docs/stable/) if you want to learn more.\n",
      "\n",
      "## Other Pandas resources\n",
      "\n",
      "1.  [introduction to pandas](http://www.google.com/url?q=http%3A%2F%2Fvimeo.com%2F59324550&amp;sa=D&amp;sntz=1&amp;usg=AFQjCNE6pX-DMSKnAJEll-4JOTxjQAea5g)\n",
      "\n",
      "2.  The pandas [cookbook](http://www.google.com/url?q=http%3A%2F%2Fpandas.pydata.org%2Fpandas-docs%2Fstable%2Fcookbook.html&amp;sa=D&amp;sntz=1&amp;usg=AFQjCNEtJUpOyYreyIOh3nI2Ff5ljloFLQ)\n",
      "\n",
      "3.  [2012 PyData Workshop](http://www.youtube.com/watch?v=MxRMXhjXZos)\n",
      "\n",
      "5.  Randal Olson&#39;s [tutorial](http://www.google.com/url?q=http%3A%2F%2Fwww.randalolson.com%2F2012%2F08%2F06%2Fstatistical-analysis-made-easy-in-python%2F&amp;sa=D&amp;sntz=1&amp;usg=AFQjCNHnqoqy15vGpaFJE9kBfPijrAAeVw)\n",
      "\n",
      "6.  Wes McKinney&#39;s tutorials [1](http://youtu.be/MxRMXhjXZos) and  [2](http://youtu.be/w26x-z-BdWQ) &nbsp;on [Kaggle](http://www.google.com/url?q=http%3A%2F%2Fwww.kaggle.com%2F&amp;sa=D&amp;sntz=1&amp;usg=AFQjCNG1UassuwCrEn3HAzOh9jbWKXMGhA)\n",
      "\n",
      "7.  Hernan Rojas&#39;  [tutorial](https://www.google.com/url?q=https%3A%2F%2Fbitbucket.org%2Fhrojas%2Flearn-pandas&amp;sa=D&amp;sntz=1&amp;usg=AFQjCNGUIOtzIoYF6dsR2Ddx1MCaUvpmIQ)\n",
      "\n",
      "8.  Tutorials on [financial data](http://www.google.com/url?q=http%3A%2F%2Fnbviewer.ipython.org%2F3962843&amp;sa=D&amp;sntz=1&amp;usg=AFQjCNFiG5ujwX2_cCnoMdcFJiuJuSIh8w) and [time series](http://www.google.com/url?q=http%3A%2F%2Fnbviewer.ipython.org%2Furls%2Fraw.github.com%2Fchanghiskhan%2Ftalks%2Fmaster%2Fpydata2012%2Fpandas_timeseries.ipynb&amp;sa=D&amp;sntz=1&amp;usg=AFQjCNF1EZb3kPTvFylzrvNChO7RngKGZg) using pandas\n",
      "\n",
      "9. Kaggle's Titanic practice competition. [Just the notebook](http://nbviewer.ipython.org/urls/raw.github.com/agconti/kaggle-titanic/master/Titanic.ipynb ) or the [Github version with all of the data.](https://github.com/agconti/kaggle-titanic) \n"
     ]
    },
    {
     "cell_type": "markdown",
     "metadata": {},
     "source": [
      "###Getting Started\n",
      "Run a cell by either:\n",
      "* pressing the 'play' key at in the toolbar\n",
      "* Ctrl+Enter\n",
      "* Shift+Enter\n",
      "\n",
      "You need to run the cells in order."
     ]
    },
    {
     "cell_type": "code",
     "collapsed": false,
     "input": [
      "%matplotlib inline\n",
      "import numpy as np\n",
      "import pandas as pd\n",
      "import matplotlib.pyplot as plt\n",
      "pd.set_option('display.max_columns', 100)\n",
      "\n",
      "print 'Pandas version ' + pd.__version__\n",
      "print 'Numpy version ' + np.__version__"
     ],
     "language": "python",
     "metadata": {},
     "outputs": []
    },
    {
     "cell_type": "markdown",
     "metadata": {},
     "source": [
      "### Load the Data"
     ]
    },
    {
     "cell_type": "markdown",
     "metadata": {},
     "source": [
      "Let's read a CSV file. We can use pandas' `read_csv` function to pull it directly into a [DataFrame](http://pandas.pydata.org/pandas-docs/stable/dsintro.html#dataframe). \n",
      "\n",
      "You can use a local file or the URL where the file is hosted.\n",
      "\n",
      "Copy this link and paste it between the quotation marks\n",
      "\n",
      "https://raw.githubusercontent.com/apawlik/2014-04-09-GARNET/gh-pages/lessons/garnet/pandas/data/weather_year.csv"
     ]
    },
    {
     "cell_type": "code",
     "collapsed": true,
     "input": [
      "data = pd.read_csv(\"\")"
     ],
     "language": "python",
     "metadata": {},
     "outputs": []
    },
    {
     "cell_type": "markdown",
     "metadata": {},
     "source": [
      "Look at the first n rows (n=1,2...) using `head(n)`"
     ]
    },
    {
     "cell_type": "code",
     "collapsed": false,
     "input": [
      "data.head()"
     ],
     "language": "python",
     "metadata": {},
     "outputs": []
    },
    {
     "cell_type": "markdown",
     "metadata": {},
     "source": [
      "We can get a summaries with: `info()`"
     ]
    },
    {
     "cell_type": "code",
     "collapsed": false,
     "input": [
      "data.info()"
     ],
     "language": "python",
     "metadata": {},
     "outputs": []
    },
    {
     "cell_type": "markdown",
     "metadata": {},
     "source": [
      "###Accessing Columns: Dictionary and Dot syntax\n",
      "\n",
      "Columns can be accessed in a few different ways. The first is using the DataFrame like a dictionary with string keys:"
     ]
    },
    {
     "cell_type": "code",
     "collapsed": false,
     "input": [
      "list(data.columns)"
     ],
     "language": "python",
     "metadata": {},
     "outputs": []
    },
    {
     "cell_type": "markdown",
     "metadata": {},
     "source": [
      "Let's get rid of those spaces in front of some of the names, using a list comprehension"
     ]
    },
    {
     "cell_type": "code",
     "collapsed": false,
     "input": [
      "data.columns  = [x.strip() for x in data.columns]\n",
      "list(data.columns)"
     ],
     "language": "python",
     "metadata": {},
     "outputs": []
    },
    {
     "cell_type": "code",
     "collapsed": false,
     "input": [
      "data[\"EDT\"]"
     ],
     "language": "python",
     "metadata": {},
     "outputs": []
    },
    {
     "cell_type": "markdown",
     "metadata": {},
     "source": [
      "You can get multiple columns out at the same time by passing in a list of strings."
     ]
    },
    {
     "cell_type": "code",
     "collapsed": false,
     "input": [
      "data[[\"EDT\", \"Mean TemperatureF\"]]"
     ],
     "language": "python",
     "metadata": {},
     "outputs": []
    },
    {
     "cell_type": "markdown",
     "metadata": {},
     "source": [
      "The second way to access columns is using the **dot syntax**. This only works if your column name could also be a Python variable name (i.e., no spaces), and if it doesn't collide with another DataFrame property or function name (e.g., count, sum)."
     ]
    },
    {
     "cell_type": "code",
     "collapsed": false,
     "input": [
      "data.EDT"
     ],
     "language": "python",
     "metadata": {},
     "outputs": []
    },
    {
     "cell_type": "markdown",
     "metadata": {},
     "source": [
      "How many unique values are there in Cloud Cover?"
     ]
    },
    {
     "cell_type": "code",
     "collapsed": false,
     "input": [
      "data['CloudCover'].unique()"
     ],
     "language": "python",
     "metadata": {},
     "outputs": []
    },
    {
     "cell_type": "code",
     "collapsed": false,
     "input": [
      "data['CloudCover'].value_counts()"
     ],
     "language": "python",
     "metadata": {},
     "outputs": []
    },
    {
     "cell_type": "code",
     "collapsed": false,
     "input": [
      "data['CloudCover'].value_counts().plot(kind='bar')"
     ],
     "language": "python",
     "metadata": {},
     "outputs": []
    },
    {
     "cell_type": "markdown",
     "metadata": {},
     "source": [
      "### Summary Statistics\n",
      "If the data in the column is numeric, you can use `describe()` to get some stats on it."
     ]
    },
    {
     "cell_type": "code",
     "collapsed": false,
     "input": [
      "data[\"Mean TemperatureF\"].describe()"
     ],
     "language": "python",
     "metadata": {},
     "outputs": []
    },
    {
     "cell_type": "code",
     "collapsed": false,
     "input": [
      "data[\"Mean TemperatureF\"].mean()"
     ],
     "language": "python",
     "metadata": {},
     "outputs": []
    },
    {
     "cell_type": "code",
     "collapsed": false,
     "input": [
      "data[\"Mean TemperatureF\"].std()"
     ],
     "language": "python",
     "metadata": {},
     "outputs": []
    },
    {
     "cell_type": "markdown",
     "metadata": {},
     "source": [
      "By the way, many of the column-specific methods also work on the entire DataFrame. Instead of a single number, you'll get a result for each column."
     ]
    },
    {
     "cell_type": "code",
     "collapsed": false,
     "input": [
      "data.mean()"
     ],
     "language": "python",
     "metadata": {},
     "outputs": []
    },
    {
     "cell_type": "markdown",
     "metadata": {},
     "source": [
      "###Quick Plots"
     ]
    },
    {
     "cell_type": "markdown",
     "metadata": {},
     "source": [
      "Some methods, like `plot()` and `hist()` produce plots"
     ]
    },
    {
     "cell_type": "code",
     "collapsed": false,
     "input": [
      "data[\"Mean TemperatureF\"].hist(bins=20)"
     ],
     "language": "python",
     "metadata": {},
     "outputs": []
    },
    {
     "cell_type": "code",
     "collapsed": false,
     "input": [
      "data[\"Mean TemperatureF\"].plot()"
     ],
     "language": "python",
     "metadata": {},
     "outputs": []
    },
    {
     "cell_type": "markdown",
     "metadata": {},
     "source": [
      "### Filtering"
     ]
    },
    {
     "cell_type": "markdown",
     "metadata": {},
     "source": [
      "Most of your time using pandas will likely be devoted to selecting rows of interest from a DataFrame. In addition to strings, the dictionary syntax accepts things like this:"
     ]
    },
    {
     "cell_type": "code",
     "collapsed": false,
     "input": [
      "freezing_days = data[data['Max TemperatureF'] <= 32]\n",
      "freezing_days"
     ],
     "language": "python",
     "metadata": {},
     "outputs": []
    },
    {
     "cell_type": "markdown",
     "metadata": {},
     "source": [
      "We get back another DataFrame with fewer rows (21 in this case). This DataFrame can be filtered down even more."
     ]
    },
    {
     "cell_type": "code",
     "collapsed": false,
     "input": [
      "freezing_days[freezing_days['Min TemperatureF'] >= 20]"
     ],
     "language": "python",
     "metadata": {},
     "outputs": []
    },
    {
     "cell_type": "markdown",
     "metadata": {},
     "source": [
      "Or, using boolean operations, we could apply both filters to the original DataFrame at the same time."
     ]
    },
    {
     "cell_type": "code",
     "collapsed": false,
     "input": [
      "data[(data['Max TemperatureF']  <= 32) & (data['Max TemperatureF']  >= 20)]"
     ],
     "language": "python",
     "metadata": {},
     "outputs": []
    },
    {
     "cell_type": "markdown",
     "metadata": {},
     "source": [
      "It's important to understand what's really going on underneath with filtering. Let's look at what kind of object we actually get back when creating a filter."
     ]
    },
    {
     "cell_type": "code",
     "collapsed": false,
     "input": [
      "temp_max = data['Max TemperatureF']  <= 32\n",
      "type(temp_max)"
     ],
     "language": "python",
     "metadata": {},
     "outputs": []
    },
    {
     "cell_type": "markdown",
     "metadata": {},
     "source": [
      "This is a pandas `Series` object, which is the one-dimensional equivalent of a DataFrame. Because our DataFrame uses datetime objects for the index, we have a specialized `TimeSeries` object.\n",
      "\n",
      "What's inside the filter?"
     ]
    },
    {
     "cell_type": "code",
     "collapsed": false,
     "input": [
      "temp_max"
     ],
     "language": "python",
     "metadata": {},
     "outputs": []
    },
    {
     "cell_type": "markdown",
     "metadata": {},
     "source": [
      "Our filter is nothing more than a `Series` with a *boolean value for every item in the index*. When we \"run the filter\" as so:"
     ]
    },
    {
     "cell_type": "code",
     "collapsed": false,
     "input": [
      "data[temp_max]"
     ],
     "language": "python",
     "metadata": {},
     "outputs": []
    },
    {
     "cell_type": "markdown",
     "metadata": {},
     "source": [
      "pandas lines up the rows of the DataFrame and the filter using the index, and then keeps the rows with a `True` filter value. That's it."
     ]
    },
    {
     "cell_type": "markdown",
     "metadata": {},
     "source": [
      "### Grouping"
     ]
    },
    {
     "cell_type": "markdown",
     "metadata": {},
     "source": [
      "Another great DataFrame function is `groupby()`.\n",
      "It will group a DataFrame by one or more columns, and let you iterate through each group.\n",
      "\n",
      "As an example, let's group our DataFrame by the \" CloudCover\" column (a value ranging from 0 to 8)."
     ]
    },
    {
     "cell_type": "code",
     "collapsed": false,
     "input": [
      "data.groupby([\" CloudCover\"]).mean()"
     ],
     "language": "python",
     "metadata": {},
     "outputs": []
    },
    {
     "cell_type": "markdown",
     "metadata": {},
     "source": [
      "###Index\n",
      "\n",
      "We can transform the strings in EDT to datetime object and set it as our new index"
     ]
    },
    {
     "cell_type": "code",
     "collapsed": false,
     "input": [
      "data.head()"
     ],
     "language": "python",
     "metadata": {},
     "outputs": []
    },
    {
     "cell_type": "code",
     "collapsed": false,
     "input": [
      "data.EDT = pd.to_datetime(data.EDT)\n",
      "data.index = data.EDT"
     ],
     "language": "python",
     "metadata": {},
     "outputs": []
    },
    {
     "cell_type": "code",
     "collapsed": false,
     "input": [
      "data.head()"
     ],
     "language": "python",
     "metadata": {},
     "outputs": []
    },
    {
     "cell_type": "code",
     "collapsed": false,
     "input": [
      "summertime = data['2012-05-01':'2012-09-01']\n",
      "summertime['Mean TemperatureF'].plot()"
     ],
     "language": "python",
     "metadata": {},
     "outputs": []
    },
    {
     "cell_type": "heading",
     "level": 1,
     "metadata": {},
     "source": [
      "Practice"
     ]
    },
    {
     "cell_type": "markdown",
     "metadata": {},
     "source": [
      "We'll be examining 12 years of traffic accidents for San Diego county, from the SWITRS collision database. My company has processed this database in our datamanagement system, so you can get information about it from our [SWITRS dataset page.](http://data.civicknowledge.com/bundles/d00l005.html)"
     ]
    },
    {
     "cell_type": "code",
     "collapsed": false,
     "input": [
      "import sdipylib.url  # if fails: sudo pip install sdipylib\n",
      "%matplotlib inline\n",
      "\n",
      "url = 'http://ds.civicknowledge.org/iswitrs.chp.ca.gov/sd_collisions_2001_2012.csv'\n",
      "# You can do this: df = pd.read_csv(url)\n",
      "# But it will make the Pangea network cry. \n",
      "\n",
      "fn = sdipylib.url.cache_url(url)\n",
      "\n",
      "# Some of the column values start off looking like integers, but are really alphanumeric\n",
      "# so we need to tell Pandas to force the type. \n",
      "df = pd.read_csv(fn, dtype= {\n",
      "'c00l01008_officer_id':str,\n",
      "'c00l01009_reporting_district':str,\n",
      "'c00l0100j_beat_number':str,\n",
      "'c00l0100v_route_suffix':str,\n",
      "'c00l0100H_pcf_code_of_viol':str,\n",
      "'c00l0101c_primary_ramp':str,\n",
      "'c00l0101d_secondary_ramp':str\n",
      "\n",
      "})\n"
     ],
     "language": "python",
     "metadata": {},
     "outputs": [],
     "prompt_number": 38
    },
    {
     "cell_type": "code",
     "collapsed": false,
     "input": [
      "df.c00l0100a_day_of_week.hist(bins=7)"
     ],
     "language": "python",
     "metadata": {},
     "outputs": []
    },
    {
     "cell_type": "code",
     "collapsed": false,
     "input": [
      "df.c00l0100a_day_of_week.value_counts().plot(kind='bar')"
     ],
     "language": "python",
     "metadata": {},
     "outputs": []
    },
    {
     "cell_type": "code",
     "collapsed": false,
     "input": [
      "df.c00l01011_stwd_vehtype_at_fault.value_counts()"
     ],
     "language": "python",
     "metadata": {},
     "outputs": []
    },
    {
     "cell_type": "code",
     "collapsed": false,
     "input": [],
     "language": "python",
     "metadata": {},
     "outputs": []
    }
   ],
   "metadata": {}
  }
 ]
}