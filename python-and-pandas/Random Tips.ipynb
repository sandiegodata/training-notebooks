{
 "metadata": {
  "name": "",
  "signature": "sha256:4793047612bdc62638e469dec6ee9155887dcdae7218df498f6abcad35c08f41"
 },
 "nbformat": 3,
 "nbformat_minor": 0,
 "worksheets": [
  {
   "cells": [
    {
     "cell_type": "heading",
     "level": 1,
     "metadata": {},
     "source": [
      "Loading From Urls"
     ]
    },
    {
     "cell_type": "markdown",
     "metadata": {},
     "source": [
      "The pandas `read_csv()` function can read directly from a URL, but it has trouble with compressed data. A lot of the data URLs that the Library creates are compressed. Additionally, Pandas will re-load the file every time, and it would be much  more efficient to load the data once, save it to a file, and reference that file. That's what the `cache_url()` function does.\n",
      "\n",
      "First, you'll have to install the extension with pip. Run this from the Terminal: \n",
      "\n",
      "  $ pip install -U sdipylib\n",
      "  \n",
      "The `-U` will update the installation. You will have to re-run the `pip` command when the sdipylib is updates. \n",
      "\n",
      "After installing it, you can load it with a magic function. \n"
     ]
    },
    {
     "cell_type": "code",
     "collapsed": false,
     "input": [
      "import pandas as pd\n",
      "from  sdipylib.url import cache_url\n",
      "\n",
      "!rm hnr0914.csv # Delete the file to re-load it. \n",
      "\n",
      "fn = cache_url('http://devtest.sandiegodata.org.s3.amazonaws.com/manifests/7a007ac7-960f-468b-8ce3-7b9f83e34ea8/hnr0914.csv')\n",
      "print 'Loaded: ',fn\n",
      "df = pd.read_csv(fn)"
     ],
     "language": "python",
     "metadata": {},
     "outputs": [
      {
       "output_type": "stream",
       "stream": "stdout",
       "text": [
        "Wrote 229102 bytes, total 229102\n"
       ]
      },
      {
       "output_type": "stream",
       "stream": "stdout",
       "text": [
        "Loaded:  /Users/eric/proj/Notebooks/training-notebooks/python-and-pandas/hnr0914.csv\n"
       ]
      }
     ],
     "prompt_number": 1
    },
    {
     "cell_type": "markdown",
     "metadata": {},
     "source": [
      "## Private Data\n",
      "\n",
      "For private data, we use restricted access to Amazon S3. You can load these URLs directly into pandas, if they aren't compressed, but you will have to setup credentials first. \n",
      "\n",
      "See the [support knowledge base page for private data](http://support.sandiegodata.org/support/solutions/articles/5000001321) for instructions for setting up an account. Afterward you can access the data with: \n"
     ]
    },
    {
     "cell_type": "code",
     "collapsed": false,
     "input": [
      "df = pd.read_csv('s3://ds.civicknowledge.org/voiceofsandiego.org/BusinessMigration/migration_combined.csv')"
     ],
     "language": "python",
     "metadata": {},
     "outputs": [],
     "prompt_number": 2
    },
    {
     "cell_type": "heading",
     "level": 1,
     "metadata": {},
     "source": [
      "Lists, Maps and Dataframes"
     ]
    },
    {
     "cell_type": "markdown",
     "metadata": {},
     "source": [
      "It is really important to understand python lists and dictionaries. \n",
      "\n",
      "Lists are very similar to Series in Pandas, and you can create Series from lists. \n",
      "\n",
      "Dictionaries have a key and value. You can index the dict by the key, and get the value. \n",
      "\n",
      "Both can be created in a variety of ways. \n",
      "\n"
     ]
    },
    {
     "cell_type": "code",
     "collapsed": false,
     "input": [
      "[1,2,3,4]"
     ],
     "language": "python",
     "metadata": {},
     "outputs": [
      {
       "metadata": {},
       "output_type": "pyout",
       "prompt_number": 7,
       "text": [
        "[1, 2, 3, 4]"
       ]
      }
     ],
     "prompt_number": 7
    },
    {
     "cell_type": "code",
     "collapsed": false,
     "input": [
      "range(1,5)"
     ],
     "language": "python",
     "metadata": {},
     "outputs": [
      {
       "metadata": {},
       "output_type": "pyout",
       "prompt_number": 8,
       "text": [
        "[1, 2, 3, 4]"
       ]
      }
     ],
     "prompt_number": 8
    },
    {
     "cell_type": "code",
     "collapsed": false,
     "input": [
      "x = []\n",
      "x.append(1)\n",
      "x.append(2)\n",
      "x += [3,4]\n",
      "x"
     ],
     "language": "python",
     "metadata": {},
     "outputs": [
      {
       "metadata": {},
       "output_type": "pyout",
       "prompt_number": 9,
       "text": [
        "[1, 2, 3, 4]"
       ]
      }
     ],
     "prompt_number": 9
    },
    {
     "cell_type": "markdown",
     "metadata": {},
     "source": [
      "We can iterate over a list."
     ]
    },
    {
     "cell_type": "code",
     "collapsed": false,
     "input": [
      "for i in x:\n",
      "    print i"
     ],
     "language": "python",
     "metadata": {},
     "outputs": [
      {
       "output_type": "stream",
       "stream": "stdout",
       "text": [
        "1\n",
        "2\n",
        "3\n",
        "4\n"
       ]
      }
     ],
     "prompt_number": 10
    },
    {
     "cell_type": "markdown",
     "metadata": {},
     "source": [
      "Using a similar structure we can create *list comprehension* which allows for creating complex lists on a single line. "
     ]
    },
    {
     "cell_type": "code",
     "collapsed": false,
     "input": [
      "[i*i for i in x]"
     ],
     "language": "python",
     "metadata": {},
     "outputs": [
      {
       "metadata": {},
       "output_type": "pyout",
       "prompt_number": 11,
       "text": [
        "[1, 4, 9, 16]"
       ]
      }
     ],
     "prompt_number": 11
    },
    {
     "cell_type": "code",
     "collapsed": false,
     "input": [
      "x[0]"
     ],
     "language": "python",
     "metadata": {},
     "outputs": [
      {
       "metadata": {},
       "output_type": "pyout",
       "prompt_number": 13,
       "text": [
        "1"
       ]
      }
     ],
     "prompt_number": 13
    },
    {
     "cell_type": "code",
     "collapsed": false,
     "input": [
      "x[5]"
     ],
     "language": "python",
     "metadata": {},
     "outputs": [
      {
       "ename": "IndexError",
       "evalue": "list index out of range",
       "output_type": "pyerr",
       "traceback": [
        "\u001b[0;31m---------------------------------------------------------------------------\u001b[0m\n\u001b[0;31mIndexError\u001b[0m                                Traceback (most recent call last)",
        "\u001b[0;32m<ipython-input-14-e8c2945f243d>\u001b[0m in \u001b[0;36m<module>\u001b[0;34m()\u001b[0m\n\u001b[0;32m----> 1\u001b[0;31m \u001b[0mx\u001b[0m\u001b[0;34m[\u001b[0m\u001b[0;36m5\u001b[0m\u001b[0;34m]\u001b[0m\u001b[0;34m\u001b[0m\u001b[0m\n\u001b[0m",
        "\u001b[0;31mIndexError\u001b[0m: list index out of range"
       ]
      }
     ],
     "prompt_number": 14
    },
    {
     "cell_type": "heading",
     "level": 2,
     "metadata": {},
     "source": [
      "Dictionaries"
     ]
    },
    {
     "cell_type": "markdown",
     "metadata": {},
     "source": [
      "Dictionaries have a key and a value."
     ]
    },
    {
     "cell_type": "code",
     "collapsed": false,
     "input": [
      "d = {\n",
      "    'a': 'one',\n",
      "    'b': 'two',\n",
      "    'c': 'three'\n",
      "}\n",
      "d"
     ],
     "language": "python",
     "metadata": {},
     "outputs": [
      {
       "metadata": {},
       "output_type": "pyout",
       "prompt_number": 16,
       "text": [
        "{'a': 'one', 'b': 'two', 'c': 'three'}"
       ]
      }
     ],
     "prompt_number": 16
    },
    {
     "cell_type": "code",
     "collapsed": false,
     "input": [
      "d['a']"
     ],
     "language": "python",
     "metadata": {},
     "outputs": [
      {
       "metadata": {},
       "output_type": "pyout",
       "prompt_number": 17,
       "text": [
        "'one'"
       ]
      }
     ],
     "prompt_number": 17
    },
    {
     "cell_type": "markdown",
     "metadata": {},
     "source": [
      "You can also create them with comprehensions"
     ]
    },
    {
     "cell_type": "code",
     "collapsed": false,
     "input": [
      "{ k:v+v for k,v in d.items() }"
     ],
     "language": "python",
     "metadata": {},
     "outputs": [
      {
       "metadata": {},
       "output_type": "pyout",
       "prompt_number": 19,
       "text": [
        "{'a': 'oneone', 'b': 'twotwo', 'c': 'threethree'}"
       ]
      }
     ],
     "prompt_number": 19
    },
    {
     "cell_type": "code",
     "collapsed": false,
     "input": [
      "d.items()"
     ],
     "language": "python",
     "metadata": {},
     "outputs": [
      {
       "metadata": {},
       "output_type": "pyout",
       "prompt_number": 20,
       "text": [
        "[('a', 'one'), ('c', 'three'), ('b', 'two')]"
       ]
      }
     ],
     "prompt_number": 20
    },
    {
     "cell_type": "code",
     "collapsed": false,
     "input": [
      "d.items()[1]"
     ],
     "language": "python",
     "metadata": {},
     "outputs": [
      {
       "metadata": {},
       "output_type": "pyout",
       "prompt_number": 21,
       "text": [
        "('c', 'three')"
       ]
      }
     ],
     "prompt_number": 21
    },
    {
     "cell_type": "code",
     "collapsed": false,
     "input": [
      "k,v = d.items()[1]\n",
      "print k\n",
      "print v"
     ],
     "language": "python",
     "metadata": {},
     "outputs": [
      {
       "output_type": "stream",
       "stream": "stdout",
       "text": [
        "c\n",
        "three\n"
       ]
      }
     ],
     "prompt_number": 22
    },
    {
     "cell_type": "heading",
     "level": 1,
     "metadata": {},
     "source": [
      "Creating DataFrames from Lists and Maps"
     ]
    },
    {
     "cell_type": "markdown",
     "metadata": {},
     "source": [
      "You can create dataframes from maps and lists"
     ]
    },
    {
     "cell_type": "code",
     "collapsed": false,
     "input": [
      "pd.DataFrame([1,2,3,4])"
     ],
     "language": "python",
     "metadata": {},
     "outputs": [
      {
       "html": [
        "<div style=\"max-height:1000px;max-width:1500px;overflow:auto;\">\n",
        "<table border=\"1\" class=\"dataframe\">\n",
        "  <thead>\n",
        "    <tr style=\"text-align: right;\">\n",
        "      <th></th>\n",
        "      <th>0</th>\n",
        "    </tr>\n",
        "  </thead>\n",
        "  <tbody>\n",
        "    <tr>\n",
        "      <th>0</th>\n",
        "      <td> 1</td>\n",
        "    </tr>\n",
        "    <tr>\n",
        "      <th>1</th>\n",
        "      <td> 2</td>\n",
        "    </tr>\n",
        "    <tr>\n",
        "      <th>2</th>\n",
        "      <td> 3</td>\n",
        "    </tr>\n",
        "    <tr>\n",
        "      <th>3</th>\n",
        "      <td> 4</td>\n",
        "    </tr>\n",
        "  </tbody>\n",
        "</table>\n",
        "<p>4 rows \u00d7 1 columns</p>\n",
        "</div>"
       ],
       "metadata": {},
       "output_type": "pyout",
       "prompt_number": 25,
       "text": [
        "   0\n",
        "0  1\n",
        "1  2\n",
        "2  3\n",
        "3  4\n",
        "\n",
        "[4 rows x 1 columns]"
       ]
      }
     ],
     "prompt_number": 25
    },
    {
     "cell_type": "code",
     "collapsed": false,
     "input": [
      "pd.DataFrame([[1,2,3,4],[5,6,7,8]])"
     ],
     "language": "python",
     "metadata": {},
     "outputs": [
      {
       "html": [
        "<div style=\"max-height:1000px;max-width:1500px;overflow:auto;\">\n",
        "<table border=\"1\" class=\"dataframe\">\n",
        "  <thead>\n",
        "    <tr style=\"text-align: right;\">\n",
        "      <th></th>\n",
        "      <th>0</th>\n",
        "      <th>1</th>\n",
        "      <th>2</th>\n",
        "      <th>3</th>\n",
        "    </tr>\n",
        "  </thead>\n",
        "  <tbody>\n",
        "    <tr>\n",
        "      <th>0</th>\n",
        "      <td> 1</td>\n",
        "      <td> 2</td>\n",
        "      <td> 3</td>\n",
        "      <td> 4</td>\n",
        "    </tr>\n",
        "    <tr>\n",
        "      <th>1</th>\n",
        "      <td> 5</td>\n",
        "      <td> 6</td>\n",
        "      <td> 7</td>\n",
        "      <td> 8</td>\n",
        "    </tr>\n",
        "  </tbody>\n",
        "</table>\n",
        "<p>2 rows \u00d7 4 columns</p>\n",
        "</div>"
       ],
       "metadata": {},
       "output_type": "pyout",
       "prompt_number": 27,
       "text": [
        "   0  1  2  3\n",
        "0  1  2  3  4\n",
        "1  5  6  7  8\n",
        "\n",
        "[2 rows x 4 columns]"
       ]
      }
     ],
     "prompt_number": 27
    },
    {
     "cell_type": "code",
     "collapsed": false,
     "input": [
      "pd.DataFrame(zip([1,2,3,4],[5,6,7,8]))"
     ],
     "language": "python",
     "metadata": {},
     "outputs": [
      {
       "html": [
        "<div style=\"max-height:1000px;max-width:1500px;overflow:auto;\">\n",
        "<table border=\"1\" class=\"dataframe\">\n",
        "  <thead>\n",
        "    <tr style=\"text-align: right;\">\n",
        "      <th></th>\n",
        "      <th>0</th>\n",
        "      <th>1</th>\n",
        "    </tr>\n",
        "  </thead>\n",
        "  <tbody>\n",
        "    <tr>\n",
        "      <th>0</th>\n",
        "      <td> 1</td>\n",
        "      <td> 5</td>\n",
        "    </tr>\n",
        "    <tr>\n",
        "      <th>1</th>\n",
        "      <td> 2</td>\n",
        "      <td> 6</td>\n",
        "    </tr>\n",
        "    <tr>\n",
        "      <th>2</th>\n",
        "      <td> 3</td>\n",
        "      <td> 7</td>\n",
        "    </tr>\n",
        "    <tr>\n",
        "      <th>3</th>\n",
        "      <td> 4</td>\n",
        "      <td> 8</td>\n",
        "    </tr>\n",
        "  </tbody>\n",
        "</table>\n",
        "<p>4 rows \u00d7 2 columns</p>\n",
        "</div>"
       ],
       "metadata": {},
       "output_type": "pyout",
       "prompt_number": 29,
       "text": [
        "   0  1\n",
        "0  1  5\n",
        "1  2  6\n",
        "2  3  7\n",
        "3  4  8\n",
        "\n",
        "[4 rows x 2 columns]"
       ]
      }
     ],
     "prompt_number": 29
    },
    {
     "cell_type": "code",
     "collapsed": false,
     "input": [
      "pd.DataFrame(zip([1,2,3,4],[5,6,7,8]), ['a','b','c','d'])"
     ],
     "language": "python",
     "metadata": {},
     "outputs": [
      {
       "html": [
        "<div style=\"max-height:1000px;max-width:1500px;overflow:auto;\">\n",
        "<table border=\"1\" class=\"dataframe\">\n",
        "  <thead>\n",
        "    <tr style=\"text-align: right;\">\n",
        "      <th></th>\n",
        "      <th>0</th>\n",
        "      <th>1</th>\n",
        "    </tr>\n",
        "  </thead>\n",
        "  <tbody>\n",
        "    <tr>\n",
        "      <th>a</th>\n",
        "      <td> 1</td>\n",
        "      <td> 5</td>\n",
        "    </tr>\n",
        "    <tr>\n",
        "      <th>b</th>\n",
        "      <td> 2</td>\n",
        "      <td> 6</td>\n",
        "    </tr>\n",
        "    <tr>\n",
        "      <th>c</th>\n",
        "      <td> 3</td>\n",
        "      <td> 7</td>\n",
        "    </tr>\n",
        "    <tr>\n",
        "      <th>d</th>\n",
        "      <td> 4</td>\n",
        "      <td> 8</td>\n",
        "    </tr>\n",
        "  </tbody>\n",
        "</table>\n",
        "<p>4 rows \u00d7 2 columns</p>\n",
        "</div>"
       ],
       "metadata": {},
       "output_type": "pyout",
       "prompt_number": 32,
       "text": [
        "   0  1\n",
        "a  1  5\n",
        "b  2  6\n",
        "c  3  7\n",
        "d  4  8\n",
        "\n",
        "[4 rows x 2 columns]"
       ]
      }
     ],
     "prompt_number": 32
    },
    {
     "cell_type": "code",
     "collapsed": false,
     "input": [
      "pd.DataFrame(zip([1,2,3,4],[5,6,7,8]), index=list(\"abcd\"))"
     ],
     "language": "python",
     "metadata": {},
     "outputs": [
      {
       "html": [
        "<div style=\"max-height:1000px;max-width:1500px;overflow:auto;\">\n",
        "<table border=\"1\" class=\"dataframe\">\n",
        "  <thead>\n",
        "    <tr style=\"text-align: right;\">\n",
        "      <th></th>\n",
        "      <th>0</th>\n",
        "      <th>1</th>\n",
        "    </tr>\n",
        "  </thead>\n",
        "  <tbody>\n",
        "    <tr>\n",
        "      <th>a</th>\n",
        "      <td> 1</td>\n",
        "      <td> 5</td>\n",
        "    </tr>\n",
        "    <tr>\n",
        "      <th>b</th>\n",
        "      <td> 2</td>\n",
        "      <td> 6</td>\n",
        "    </tr>\n",
        "    <tr>\n",
        "      <th>c</th>\n",
        "      <td> 3</td>\n",
        "      <td> 7</td>\n",
        "    </tr>\n",
        "    <tr>\n",
        "      <th>d</th>\n",
        "      <td> 4</td>\n",
        "      <td> 8</td>\n",
        "    </tr>\n",
        "  </tbody>\n",
        "</table>\n",
        "<p>4 rows \u00d7 2 columns</p>\n",
        "</div>"
       ],
       "metadata": {},
       "output_type": "pyout",
       "prompt_number": 35,
       "text": [
        "   0  1\n",
        "a  1  5\n",
        "b  2  6\n",
        "c  3  7\n",
        "d  4  8\n",
        "\n",
        "[4 rows x 2 columns]"
       ]
      }
     ],
     "prompt_number": 35
    },
    {
     "cell_type": "code",
     "collapsed": false,
     "input": [
      "pd.DataFrame(zip([1,2,3,4],[5,6,7,8]), index=list(\"abcd\"), columns=list(\"ef\"))"
     ],
     "language": "python",
     "metadata": {},
     "outputs": [
      {
       "html": [
        "<div style=\"max-height:1000px;max-width:1500px;overflow:auto;\">\n",
        "<table border=\"1\" class=\"dataframe\">\n",
        "  <thead>\n",
        "    <tr style=\"text-align: right;\">\n",
        "      <th></th>\n",
        "      <th>e</th>\n",
        "      <th>f</th>\n",
        "    </tr>\n",
        "  </thead>\n",
        "  <tbody>\n",
        "    <tr>\n",
        "      <th>a</th>\n",
        "      <td> 1</td>\n",
        "      <td> 5</td>\n",
        "    </tr>\n",
        "    <tr>\n",
        "      <th>b</th>\n",
        "      <td> 2</td>\n",
        "      <td> 6</td>\n",
        "    </tr>\n",
        "    <tr>\n",
        "      <th>c</th>\n",
        "      <td> 3</td>\n",
        "      <td> 7</td>\n",
        "    </tr>\n",
        "    <tr>\n",
        "      <th>d</th>\n",
        "      <td> 4</td>\n",
        "      <td> 8</td>\n",
        "    </tr>\n",
        "  </tbody>\n",
        "</table>\n",
        "<p>4 rows \u00d7 2 columns</p>\n",
        "</div>"
       ],
       "metadata": {},
       "output_type": "pyout",
       "prompt_number": 36,
       "text": [
        "   e  f\n",
        "a  1  5\n",
        "b  2  6\n",
        "c  3  7\n",
        "d  4  8\n",
        "\n",
        "[4 rows x 2 columns]"
       ]
      }
     ],
     "prompt_number": 36
    },
    {
     "cell_type": "heading",
     "level": 3,
     "metadata": {},
     "source": [
      "Creating with a Dictionary"
     ]
    },
    {
     "cell_type": "code",
     "collapsed": false,
     "input": [
      "pd.DataFrame({\n",
      "    'a' : [1,2,3,4],\n",
      "    'b' : [2,3,4,5]\n",
      "})"
     ],
     "language": "python",
     "metadata": {},
     "outputs": [
      {
       "html": [
        "<div style=\"max-height:1000px;max-width:1500px;overflow:auto;\">\n",
        "<table border=\"1\" class=\"dataframe\">\n",
        "  <thead>\n",
        "    <tr style=\"text-align: right;\">\n",
        "      <th></th>\n",
        "      <th>a</th>\n",
        "      <th>b</th>\n",
        "    </tr>\n",
        "  </thead>\n",
        "  <tbody>\n",
        "    <tr>\n",
        "      <th>0</th>\n",
        "      <td> 1</td>\n",
        "      <td> 2</td>\n",
        "    </tr>\n",
        "    <tr>\n",
        "      <th>1</th>\n",
        "      <td> 2</td>\n",
        "      <td> 3</td>\n",
        "    </tr>\n",
        "    <tr>\n",
        "      <th>2</th>\n",
        "      <td> 3</td>\n",
        "      <td> 4</td>\n",
        "    </tr>\n",
        "    <tr>\n",
        "      <th>3</th>\n",
        "      <td> 4</td>\n",
        "      <td> 5</td>\n",
        "    </tr>\n",
        "  </tbody>\n",
        "</table>\n",
        "<p>4 rows \u00d7 2 columns</p>\n",
        "</div>"
       ],
       "metadata": {},
       "output_type": "pyout",
       "prompt_number": 34,
       "text": [
        "   a  b\n",
        "0  1  2\n",
        "1  2  3\n",
        "2  3  4\n",
        "3  4  5\n",
        "\n",
        "[4 rows x 2 columns]"
       ]
      }
     ],
     "prompt_number": 34
    },
    {
     "cell_type": "markdown",
     "metadata": {},
     "source": [
      "These methods can be combined in complex ways ... "
     ]
    },
    {
     "cell_type": "code",
     "collapsed": false,
     "input": [
      "sample={'user1': {'item1': 2.5, 'item2': 3.5, 'item3': 3.0, 'item4': 3.5, 'item5': 2.5, 'item6': 3.0},\n",
      "        'user2': {'item1': 2.5, 'item2': 3.0, 'item3': 3.5, 'item4': 4.0},\n",
      "        'user3': {'item2':4.5,'item5':1.0,'item6':4.0}}\n",
      "\n",
      "df = pd.DataFrame([ [col1,col2,col3] for col1, d in sample.items() for col2, col3 in d.items() ])\n",
      "\n",
      "df\n"
     ],
     "language": "python",
     "metadata": {},
     "outputs": [
      {
       "html": [
        "<div style=\"max-height:1000px;max-width:1500px;overflow:auto;\">\n",
        "<table border=\"1\" class=\"dataframe\">\n",
        "  <thead>\n",
        "    <tr style=\"text-align: right;\">\n",
        "      <th></th>\n",
        "      <th>0</th>\n",
        "      <th>1</th>\n",
        "      <th>2</th>\n",
        "    </tr>\n",
        "  </thead>\n",
        "  <tbody>\n",
        "    <tr>\n",
        "      <th>0 </th>\n",
        "      <td> user2</td>\n",
        "      <td> item2</td>\n",
        "      <td> 3.0</td>\n",
        "    </tr>\n",
        "    <tr>\n",
        "      <th>1 </th>\n",
        "      <td> user2</td>\n",
        "      <td> item3</td>\n",
        "      <td> 3.5</td>\n",
        "    </tr>\n",
        "    <tr>\n",
        "      <th>2 </th>\n",
        "      <td> user2</td>\n",
        "      <td> item1</td>\n",
        "      <td> 2.5</td>\n",
        "    </tr>\n",
        "    <tr>\n",
        "      <th>3 </th>\n",
        "      <td> user2</td>\n",
        "      <td> item4</td>\n",
        "      <td> 4.0</td>\n",
        "    </tr>\n",
        "    <tr>\n",
        "      <th>4 </th>\n",
        "      <td> user3</td>\n",
        "      <td> item2</td>\n",
        "      <td> 4.5</td>\n",
        "    </tr>\n",
        "    <tr>\n",
        "      <th>5 </th>\n",
        "      <td> user3</td>\n",
        "      <td> item6</td>\n",
        "      <td> 4.0</td>\n",
        "    </tr>\n",
        "    <tr>\n",
        "      <th>6 </th>\n",
        "      <td> user3</td>\n",
        "      <td> item5</td>\n",
        "      <td> 1.0</td>\n",
        "    </tr>\n",
        "    <tr>\n",
        "      <th>7 </th>\n",
        "      <td> user1</td>\n",
        "      <td> item2</td>\n",
        "      <td> 3.5</td>\n",
        "    </tr>\n",
        "    <tr>\n",
        "      <th>8 </th>\n",
        "      <td> user1</td>\n",
        "      <td> item3</td>\n",
        "      <td> 3.0</td>\n",
        "    </tr>\n",
        "    <tr>\n",
        "      <th>9 </th>\n",
        "      <td> user1</td>\n",
        "      <td> item1</td>\n",
        "      <td> 2.5</td>\n",
        "    </tr>\n",
        "    <tr>\n",
        "      <th>10</th>\n",
        "      <td> user1</td>\n",
        "      <td> item6</td>\n",
        "      <td> 3.0</td>\n",
        "    </tr>\n",
        "    <tr>\n",
        "      <th>11</th>\n",
        "      <td> user1</td>\n",
        "      <td> item4</td>\n",
        "      <td> 3.5</td>\n",
        "    </tr>\n",
        "    <tr>\n",
        "      <th>12</th>\n",
        "      <td> user1</td>\n",
        "      <td> item5</td>\n",
        "      <td> 2.5</td>\n",
        "    </tr>\n",
        "  </tbody>\n",
        "</table>\n",
        "<p>13 rows \u00d7 3 columns</p>\n",
        "</div>"
       ],
       "metadata": {},
       "output_type": "pyout",
       "prompt_number": 24,
       "text": [
        "        0      1    2\n",
        "0   user2  item2  3.0\n",
        "1   user2  item3  3.5\n",
        "2   user2  item1  2.5\n",
        "3   user2  item4  4.0\n",
        "4   user3  item2  4.5\n",
        "5   user3  item6  4.0\n",
        "6   user3  item5  1.0\n",
        "7   user1  item2  3.5\n",
        "8   user1  item3  3.0\n",
        "9   user1  item1  2.5\n",
        "10  user1  item6  3.0\n",
        "11  user1  item4  3.5\n",
        "12  user1  item5  2.5\n",
        "\n",
        "[13 rows x 3 columns]"
       ]
      }
     ],
     "prompt_number": 24
    },
    {
     "cell_type": "heading",
     "level": 1,
     "metadata": {},
     "source": [
      "Complex Matplotlib Configurations"
     ]
    },
    {
     "cell_type": "markdown",
     "metadata": {},
     "source": [
      "Sometimes you need to take a lot of values from various places and put them into a single chart. The cleaest way to do this is to create new DataFrame that have the right structure, then let Pandas and Matplotlib do the work."
     ]
    },
    {
     "cell_type": "code",
     "collapsed": false,
     "input": [
      "%matplotlib inline\n",
      "import pandas as pd\n",
      "\n",
      "# The index could be any list, but for this example, we just need\n",
      "# an integer index, one for each element\n",
      "index = range(1,6)\n",
      "\n",
      "# Create a dataframe. The Inner '{' and '}' define a dictionary, and the 'men': and 'women': part are the\n",
      "# keys in the dict. They will become the column names. The pd.Series are the column data. \n",
      "df = pd.DataFrame({\n",
      "   'men': pd.Series((20, 35, 30, 35, 27), index),\n",
      "   'women': pd.Series((25, 32, 34, 20, 25), index)\n",
      "})\n",
      "\n",
      "print df.head()\n",
      "\n",
      "# Them making a stacked barchart is easy. \n",
      "df.plot(kind='bar', stacked=True)"
     ],
     "language": "python",
     "metadata": {},
     "outputs": [
      {
       "output_type": "stream",
       "stream": "stdout",
       "text": [
        "   men  women\n",
        "1   20     25\n",
        "2   35     32\n",
        "3   30     34\n",
        "4   35     20\n",
        "5   27     25\n",
        "\n",
        "[5 rows x 2 columns]\n"
       ]
      },
      {
       "metadata": {},
       "output_type": "pyout",
       "prompt_number": 4,
       "text": [
        "<matplotlib.axes.AxesSubplot at 0x11633ea10>"
       ]
      },
      {
       "metadata": {},
       "output_type": "display_data",
       "png": "[encoded data removed]",
       "text": [
        "<matplotlib.figure.Figure at 0x11460a310>"
       ]
      }
     ],
     "prompt_number": 4
    },
    {
     "cell_type": "code",
     "collapsed": false,
     "input": [],
     "language": "python",
     "metadata": {},
     "outputs": []
    }
   ],
   "metadata": {}
  }
 ]
}