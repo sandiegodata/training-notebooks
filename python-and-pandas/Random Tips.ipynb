{
 "metadata": {
  "name": "",
  "signature": "sha256:86a05912d85e34aff47e4dbbd78a1af20ec8fef0d617109b4607ab09a6064aba"
 },
 "nbformat": 3,
 "nbformat_minor": 0,
 "worksheets": [
  {
   "cells": [
    {
     "cell_type": "heading",
     "level": 1,
     "metadata": {},
     "source": [
      "Loading From Urls"
     ]
    },
    {
     "cell_type": "markdown",
     "metadata": {},
     "source": [
      "The pandas `read_csv()` function can read directly from a URL, but it has trouble with compressed data. A lot of the data URLs that the Library creates are compressed. Additionally, Pandas will re-load the file every time, and it would be much  more efficient to load the data once, save it to a file, and reference that file. That's what the `cache_url()` function does.\n",
      "\n",
      "First, you'll have to install the extension with pip. Run this from the Terminal: \n",
      "\n",
      "  $ pip install -U sdipylib\n",
      "  \n",
      "The `-U` will update the installation. You will have to re-run the `pip` command when the sdipylib is updates. \n",
      "\n",
      "After installing it, you can load it with a magic function. \n"
     ]
    },
    {
     "cell_type": "code",
     "collapsed": false,
     "input": [
      "import pandas as pd\n",
      "from  sdipylib.url import cache_url\n",
      "\n",
      "!rm hnr0914.csv # Delete the file to re-load it. \n",
      "\n",
      "fn = cache_url('http://devtest.sandiegodata.org.s3.amazonaws.com/manifests/7a007ac7-960f-468b-8ce3-7b9f83e34ea8/hnr0914.csv')\n",
      "print 'Loaded: ',fn\n",
      "df = pd.read_csv(fn)"
     ],
     "language": "python",
     "metadata": {},
     "outputs": [
      {
       "output_type": "stream",
       "stream": "stdout",
       "text": [
        "Wrote 229102 bytes, total 229102\n"
       ]
      },
      {
       "output_type": "stream",
       "stream": "stdout",
       "text": [
        "Loaded:  /Users/eric/proj/Notebooks/training-notebooks/python-and-pandas/hnr0914.csv\n"
       ]
      }
     ],
     "prompt_number": 1
    },
    {
     "cell_type": "markdown",
     "metadata": {},
     "source": [
      "## Private Data\n",
      "\n",
      "For private data, we use restricted access to Amazon S3. You can load these URLs directly into pandas, if they aren't compressed, but you will have to setup credentials first. \n",
      "\n",
      "See the [support knowledge base page for private data](http://support.sandiegodata.org/support/solutions/articles/5000001321) for instructions for setting up an account. Afterward you can access the data with: \n"
     ]
    },
    {
     "cell_type": "code",
     "collapsed": false,
     "input": [
      "df = pd.read_csv('s3://ds.civicknowledge.org/voiceofsandiego.org/BusinessMigration/migration_combined.csv')"
     ],
     "language": "python",
     "metadata": {},
     "outputs": [],
     "prompt_number": 2
    },
    {
     "cell_type": "code",
     "collapsed": false,
     "input": [],
     "language": "python",
     "metadata": {},
     "outputs": []
    }
   ],
   "metadata": {}
  }
 ]
}