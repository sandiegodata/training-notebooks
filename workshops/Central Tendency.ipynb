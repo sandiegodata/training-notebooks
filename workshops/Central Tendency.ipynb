{
 "metadata": {
  "name": "",
  "signature": "sha256:3d3b7256e04da3746b085d6506ddf4ab8792306ea8452be545de1e496acf59c5"
 },
 "nbformat": 3,
 "nbformat_minor": 0,
 "worksheets": [
  {
   "cells": [
    {
     "cell_type": "code",
     "collapsed": false,
     "input": [
      "from IPython.display import Image\n",
      "Image(url='http://media.groupspaces.com/thumb/s/8151798/h/84fed2d0a02e40fe00cac0ebf708e872.jpg')"
     ],
     "language": "python",
     "metadata": {},
     "outputs": [
      {
       "html": [
        "<img src=\"http://media.groupspaces.com/thumb/s/8151798/h/84fed2d0a02e40fe00cac0ebf708e872.jpg\"/>"
       ],
       "metadata": {},
       "output_type": "pyout",
       "prompt_number": 114,
       "text": [
        "<IPython.core.display.Image at 0x10cbda150>"
       ]
      }
     ],
     "prompt_number": 114
    },
    {
     "cell_type": "code",
     "collapsed": false,
     "input": [
      "%matplotlib inline\n",
      "import numpy as np\n",
      "import matplotlib as mpl\n",
      "import pandas as pd\n",
      "pd.options.display.max_columns = 50\n",
      "pd.options.display.max_rows = 10\n",
      "\n",
      "from  sdipylib.url import cache_url\n",
      "from IPython.display import Math\n",
      "\n",
      "ex1=pd.read_csv('https://raw.githubusercontent.com/sdrdl/training-notebooks/master/workshops/ex1.csv')\n",
      "ex2=pd.read_csv('https://raw.githubusercontent.com/apawlik/2014-04-09-GARNET/gh-pages/lessons/garnet/pandas/data/weather_year.csv')"
     ],
     "language": "python",
     "metadata": {},
     "outputs": [],
     "prompt_number": 219
    },
    {
     "cell_type": "markdown",
     "metadata": {},
     "source": [
      "#Central Tendency\n",
      "*Part of Descriptive Statistics -- Can we somehow describe the data with a smaller set of numbers?*\n"
     ]
    },
    {
     "cell_type": "markdown",
     "metadata": {},
     "source": [
      "The term central tendency refers to the \"middle\" value or perhaps a typical value of the data, and is measured using the *mean, median,* or *mode*. Each of these measures is calculated differently, and the one that is best to use depends upon the situation.\n",
      "\n",
      "   1. Mean: \tthe average of the data\n",
      "   2. Median: \tthe middle value of the ordered data\n",
      "   3. Mode: \tthe value that occurs most often in the data"
     ]
    },
    {
     "cell_type": "markdown",
     "metadata": {},
     "source": [
      "###Is this your first introduction to Statistics? \n",
      "Maybe this friendly video can help to illustrate these concepts."
     ]
    },
    {
     "cell_type": "code",
     "collapsed": false,
     "input": [
      "from IPython.display import YouTubeVideo\n",
      "# Statistics intro: mean, median and mode.\n",
      "# Video credit: Khan Academy.\n",
      "YouTubeVideo('h8EYEJ32oQ8', width=700, height=500)"
     ],
     "language": "python",
     "metadata": {},
     "outputs": [
      {
       "html": [
        "\n",
        "        <iframe\n",
        "            width=\"700\"\n",
        "            height=500\"\n",
        "            src=\"https://www.youtube.com/embed/h8EYEJ32oQ8\"\n",
        "            frameborder=\"0\"\n",
        "            allowfullscreen\n",
        "        ></iframe>\n",
        "        "
       ],
       "metadata": {},
       "output_type": "pyout",
       "prompt_number": 116,
       "text": [
        "<IPython.lib.display.YouTubeVideo at 0x10b6e8d90>"
       ]
      }
     ],
     "prompt_number": 116
    },
    {
     "cell_type": "markdown",
     "metadata": {},
     "source": [
      "Skewed Distributions\n",
      "---------------\n",
      "When scores in a distribution are normally distributed, the mean, median, and mode are all at the same point: the center of the distribution. In the messy world of social science, however, the scores from a sample on a given variable are often not normally distributed.\n",
      "\n",
      "When the scores in a distribution tend to bunch up at one end of the distribution and there are a few scores at the other end, the distribution is said to be **skewed**. When working with a skewed distribution, the mean, median, and mode are usually all at different points.\n",
      "\n",
      "It is important to note that the procedures used to calculate a mean, median, and mode are the same whether you are dealing with a skewed or a normal distribution. All that changes are where these three measures of central tendency are in relation to each other. \n",
      "\n",
      "###Example\n",
      "\n",
      "To illustrate, I created a fictional distribution of scores based on a sample size of 30. Suppose that I were to ask a sample of 30 randomly selected fifth graders whether they think it is important to do well\n",
      "in school.\n",
      "\n",
      "Suppose further that I ask them to rate how important they think it is to do well in school using a 5-point scale, with 1 = \u201cnot at all important\u201d and 5 = \u201cvery important.\u201d Because most fifth graders tend to believe it is very important to do well in school, most of the scores in this distribution are at the high end of the scale, with a few scores at the low end. I have arranged my fictitious scores in order from smallest to largest and get the following distribution:"
     ]
    },
    {
     "cell_type": "code",
     "collapsed": false,
     "input": [
      "# a list of scores\n",
      "scores = [1,1,1,2,2,2,3,3,3,3,4,4,4,4,4,4,4,4,5,5,5,5,5,5,5,5,5,5,5,5]\n",
      "\n",
      "# a pandas dataframe containing the list\n",
      "df = pd.DataFrame({'scores': pd.Series(scores)})\n",
      "df.T"
     ],
     "language": "python",
     "metadata": {},
     "outputs": [
      {
       "html": [
        "<div style=\"max-height:1000px;max-width:1500px;overflow:auto;\">\n",
        "<table border=\"1\" class=\"dataframe\">\n",
        "  <thead>\n",
        "    <tr style=\"text-align: right;\">\n",
        "      <th></th>\n",
        "      <th>0</th>\n",
        "      <th>1</th>\n",
        "      <th>2</th>\n",
        "      <th>3</th>\n",
        "      <th>4</th>\n",
        "      <th>5</th>\n",
        "      <th>6</th>\n",
        "      <th>7</th>\n",
        "      <th>8</th>\n",
        "      <th>9</th>\n",
        "      <th>10</th>\n",
        "      <th>11</th>\n",
        "      <th>12</th>\n",
        "      <th>13</th>\n",
        "      <th>14</th>\n",
        "      <th>15</th>\n",
        "      <th>16</th>\n",
        "      <th>17</th>\n",
        "      <th>18</th>\n",
        "      <th>19</th>\n",
        "      <th>20</th>\n",
        "      <th>21</th>\n",
        "      <th>22</th>\n",
        "      <th>23</th>\n",
        "      <th>24</th>\n",
        "      <th>25</th>\n",
        "      <th>26</th>\n",
        "      <th>27</th>\n",
        "      <th>28</th>\n",
        "      <th>29</th>\n",
        "    </tr>\n",
        "  </thead>\n",
        "  <tbody>\n",
        "    <tr>\n",
        "      <th>scores</th>\n",
        "      <td> 1</td>\n",
        "      <td> 1</td>\n",
        "      <td> 1</td>\n",
        "      <td> 2</td>\n",
        "      <td> 2</td>\n",
        "      <td> 2</td>\n",
        "      <td> 3</td>\n",
        "      <td> 3</td>\n",
        "      <td> 3</td>\n",
        "      <td> 3</td>\n",
        "      <td> 4</td>\n",
        "      <td> 4</td>\n",
        "      <td> 4</td>\n",
        "      <td> 4</td>\n",
        "      <td> 4</td>\n",
        "      <td> 4</td>\n",
        "      <td> 4</td>\n",
        "      <td> 4</td>\n",
        "      <td> 5</td>\n",
        "      <td> 5</td>\n",
        "      <td> 5</td>\n",
        "      <td> 5</td>\n",
        "      <td> 5</td>\n",
        "      <td> 5</td>\n",
        "      <td> 5</td>\n",
        "      <td> 5</td>\n",
        "      <td> 5</td>\n",
        "      <td> 5</td>\n",
        "      <td> 5</td>\n",
        "      <td> 5</td>\n",
        "    </tr>\n",
        "  </tbody>\n",
        "</table>\n",
        "<p>1 rows \u00d7 30 columns</p>\n",
        "</div>"
       ],
       "metadata": {},
       "output_type": "pyout",
       "prompt_number": 180,
       "text": [
        "        0   1   2   3   4   5   6   7   8   9   10  11  12  13  14  15  16  \\\n",
        "scores   1   1   1   2   2   2   3   3   3   3   4   4   4   4   4   4   4   \n",
        "\n",
        "        17  18  19  20  21  22  23  24  25  26  27  28  29  \n",
        "scores   4   5   5   5   5   5   5   5   5   5   5   5   5  \n",
        "\n",
        "[1 rows x 30 columns]"
       ]
      }
     ],
     "prompt_number": 180
    },
    {
     "cell_type": "markdown",
     "metadata": {},
     "source": [
      "As you can see, there are only a few scores near the low end of the distribution (1 and 2) and more at the high end of the distribution (4 and 5). To get a clear picture of what this skewed distribution looks like, let's look at a *histogram*"
     ]
    },
    {
     "cell_type": "code",
     "collapsed": false,
     "input": [
      "df.hist()"
     ],
     "language": "python",
     "metadata": {},
     "outputs": [
      {
       "metadata": {},
       "output_type": "pyout",
       "prompt_number": 193,
       "text": [
        "array([[Axes(0.125,0.125;0.775x0.775)]], dtype=object)"
       ]
      },
      {
       "metadata": {},
       "output_type": "display_data",
       "png": "[encoded data removed]",
       "text": [
        "<matplotlib.figure.Figure at 0x10d320850>"
       ]
      }
     ],
     "prompt_number": 193
    },
    {
     "cell_type": "markdown",
     "metadata": {},
     "source": [
      "This plot provides a picture of what some skewed distributions look like. Notice how most of the scores are clustered at the higher end of the distribution and there are a few scores creating\n",
      "a tail toward the lower end. \n",
      "\n",
      "This is known as a **negatively skewed** distribution, because the tail goes toward the lower end.\n",
      "If the tail of the distribution were pulled out toward the higher end, this would have been a positively skewed distribution."
     ]
    },
    {
     "cell_type": "markdown",
     "metadata": {},
     "source": [
      "###Mode\n",
      "A quick glance at the scores in the distribution, or at the graph, reveals that the mode is 5 because\n",
      "there were more scores of 5 than any other number in the distribution."
     ]
    },
    {
     "cell_type": "code",
     "collapsed": false,
     "input": [
      "df.scores.mode()"
     ],
     "language": "python",
     "metadata": {},
     "outputs": [
      {
       "metadata": {},
       "output_type": "pyout",
       "prompt_number": 194,
       "text": [
        "0    5\n",
        "dtype: int64"
       ]
      }
     ],
     "prompt_number": 194
    },
    {
     "cell_type": "markdown",
     "metadata": {},
     "source": [
      "5, the mode, is the most repeated score. The zero refers to the index of the series. We can also use `value_counts()` to rank the most frequent values. "
     ]
    },
    {
     "cell_type": "code",
     "collapsed": false,
     "input": [
      "df.scores.value_counts()"
     ],
     "language": "python",
     "metadata": {},
     "outputs": [
      {
       "metadata": {},
       "output_type": "pyout",
       "prompt_number": 195,
       "text": [
        "5    12\n",
        "4     8\n",
        "3     4\n",
        "2     3\n",
        "1     3\n",
        "dtype: int64"
       ]
      }
     ],
     "prompt_number": 195
    },
    {
     "cell_type": "markdown",
     "metadata": {},
     "source": [
      "A score of 5 occurs 12 times. A score of 4 appears 8 times, and so on..."
     ]
    },
    {
     "cell_type": "markdown",
     "metadata": {},
     "source": [
      "###Mean\n",
      "We add up all of the scores (\u03a3X) and then divide this sum by the number of scores in the distribution (n).\n",
      "\n",
      "(1 +\t1 +\t1 \t+2+ \t2 \t+2 \t+3 \t+3 \t+3 +\t3 \t+4 +\t4 +\t4 \t+4 +\t4 +\t4 \t+4 \t+4 \t+5 +\t+5 \t+5 +\t5 +\t5 \t+5 +\t5+ \t5 \t+5 +\t5 \t+5 \t+5) / 30"
     ]
    },
    {
     "cell_type": "code",
     "collapsed": false,
     "input": [
      "df.mean()"
     ],
     "language": "python",
     "metadata": {},
     "outputs": [
      {
       "metadata": {},
       "output_type": "pyout",
       "prompt_number": 196,
       "text": [
        "scores    3.766667\n",
        "dtype: float64"
       ]
      }
     ],
     "prompt_number": 196
    },
    {
     "cell_type": "markdown",
     "metadata": {},
     "source": [
      "###Median\n",
      "To find the median of this distribution, we arrange the scores in order from smallest to largest and find the middle score.\n",
      "- If n is odd, we take the middle value.\n",
      "- If n is even, we take the mean of the two middle values."
     ]
    },
    {
     "cell_type": "code",
     "collapsed": false,
     "input": [
      "df.T"
     ],
     "language": "python",
     "metadata": {},
     "outputs": [
      {
       "html": [
        "<div style=\"max-height:1000px;max-width:1500px;overflow:auto;\">\n",
        "<table border=\"1\" class=\"dataframe\">\n",
        "  <thead>\n",
        "    <tr style=\"text-align: right;\">\n",
        "      <th></th>\n",
        "      <th>0</th>\n",
        "      <th>1</th>\n",
        "      <th>2</th>\n",
        "      <th>3</th>\n",
        "      <th>4</th>\n",
        "      <th>5</th>\n",
        "      <th>6</th>\n",
        "      <th>7</th>\n",
        "      <th>8</th>\n",
        "      <th>9</th>\n",
        "      <th>10</th>\n",
        "      <th>11</th>\n",
        "      <th>12</th>\n",
        "      <th>13</th>\n",
        "      <th>14</th>\n",
        "      <th>15</th>\n",
        "      <th>16</th>\n",
        "      <th>17</th>\n",
        "      <th>18</th>\n",
        "      <th>19</th>\n",
        "      <th>20</th>\n",
        "      <th>21</th>\n",
        "      <th>22</th>\n",
        "      <th>23</th>\n",
        "      <th>24</th>\n",
        "      <th>25</th>\n",
        "      <th>26</th>\n",
        "      <th>27</th>\n",
        "      <th>28</th>\n",
        "      <th>29</th>\n",
        "    </tr>\n",
        "  </thead>\n",
        "  <tbody>\n",
        "    <tr>\n",
        "      <th>scores</th>\n",
        "      <td> 1</td>\n",
        "      <td> 1</td>\n",
        "      <td> 1</td>\n",
        "      <td> 2</td>\n",
        "      <td> 2</td>\n",
        "      <td> 2</td>\n",
        "      <td> 3</td>\n",
        "      <td> 3</td>\n",
        "      <td> 3</td>\n",
        "      <td> 3</td>\n",
        "      <td> 4</td>\n",
        "      <td> 4</td>\n",
        "      <td> 4</td>\n",
        "      <td> 4</td>\n",
        "      <td> 4</td>\n",
        "      <td> 4</td>\n",
        "      <td> 4</td>\n",
        "      <td> 4</td>\n",
        "      <td> 5</td>\n",
        "      <td> 5</td>\n",
        "      <td> 5</td>\n",
        "      <td> 5</td>\n",
        "      <td> 5</td>\n",
        "      <td> 5</td>\n",
        "      <td> 5</td>\n",
        "      <td> 5</td>\n",
        "      <td> 5</td>\n",
        "      <td> 5</td>\n",
        "      <td> 5</td>\n",
        "      <td> 5</td>\n",
        "    </tr>\n",
        "  </tbody>\n",
        "</table>\n",
        "<p>1 rows \u00d7 30 columns</p>\n",
        "</div>"
       ],
       "metadata": {},
       "output_type": "pyout",
       "prompt_number": 197,
       "text": [
        "        0   1   2   3   4   5   6   7   8   9   10  11  12  13  14  15  16  \\\n",
        "scores   1   1   1   2   2   2   3   3   3   3   4   4   4   4   4   4   4   \n",
        "\n",
        "        17  18  19  20  21  22  23  24  25  26  27  28  29  \n",
        "scores   4   5   5   5   5   5   5   5   5   5   5   5   5  \n",
        "\n",
        "[1 rows x 30 columns]"
       ]
      }
     ],
     "prompt_number": 197
    },
    {
     "cell_type": "markdown",
     "metadata": {},
     "source": [
      "Since we have 30 observation, we don't have a middle value. We can find the mean of the 2 middle values and determine the median."
     ]
    },
    {
     "cell_type": "code",
     "collapsed": false,
     "input": [
      "df.scores.median()"
     ],
     "language": "python",
     "metadata": {},
     "outputs": [
      {
       "metadata": {},
       "output_type": "pyout",
       "prompt_number": 198,
       "text": [
        "4.0"
       ]
      }
     ],
     "prompt_number": 198
    },
    {
     "cell_type": "markdown",
     "metadata": {},
     "source": [
      "#Mean or Median... when do we use which?"
     ]
    },
    {
     "cell_type": "markdown",
     "metadata": {},
     "source": [
      "The mean of a distribution can be affected by scores that are unusually large or small for a distribution, sometimes called **outliers**, whereas the median is not affected by such scores. In the case of a skewed distribution, the mean is usually pulled in the direction of the tail, because the tail is where the outliers are. \n",
      "\n",
      "In a **negatively skewed distribution**, such as the one presented previously, we would expect the mean to be smaller than the median, because the mean is pulled toward the tail whereas the median is not.\n",
      "\n",
      "##Based on Skewness\n",
      "###**Symmetric**: \n",
      "Mean, median, and mode are all the same here; mound shaped, no skewness (symmetric)."
     ]
    },
    {
     "cell_type": "code",
     "collapsed": false,
     "input": [
      "Image(url='https://onlinecourses.science.psu.edu/stat500/sites/onlinecourses.science.psu.edu.stat500/files/lesson02/skew_1.gif')"
     ],
     "language": "python",
     "metadata": {},
     "outputs": [
      {
       "html": [
        "<img src=\"https://onlinecourses.science.psu.edu/stat500/sites/onlinecourses.science.psu.edu.stat500/files/lesson02/skew_1.gif\"/>"
       ],
       "metadata": {},
       "output_type": "pyout",
       "prompt_number": 188,
       "text": [
        "<IPython.core.display.Image at 0x10d320d10>"
       ]
      }
     ],
     "prompt_number": 188
    },
    {
     "cell_type": "markdown",
     "metadata": {},
     "source": [
      "The distribution above is symmetric"
     ]
    },
    {
     "cell_type": "markdown",
     "metadata": {},
     "source": [
      "###**Skewed Left**: \n",
      "Mean to the left of the median, long tail on the left."
     ]
    },
    {
     "cell_type": "code",
     "collapsed": false,
     "input": [
      "Image(url='https://onlinecourses.science.psu.edu/stat500/sites/onlinecourses.science.psu.edu.stat500/files/lesson02/skew_2.gif')"
     ],
     "language": "python",
     "metadata": {},
     "outputs": [
      {
       "html": [
        "<img src=\"https://onlinecourses.science.psu.edu/stat500/sites/onlinecourses.science.psu.edu.stat500/files/lesson02/skew_2.gif\"/>"
       ],
       "metadata": {},
       "output_type": "pyout",
       "prompt_number": 189,
       "text": [
        "<IPython.core.display.Image at 0x10d320c90>"
       ]
      }
     ],
     "prompt_number": 189
    },
    {
     "cell_type": "markdown",
     "metadata": {},
     "source": [
      "The distribution above is skewed to the left. If this is confusing, think of the skew as the tail of the distribution."
     ]
    },
    {
     "cell_type": "markdown",
     "metadata": {},
     "source": [
      "###**Skewed Right**: \n",
      "Mean to the right of the median, long tail on the right."
     ]
    },
    {
     "cell_type": "code",
     "collapsed": false,
     "input": [
      "Image(url='https://onlinecourses.science.psu.edu/stat500/sites/onlinecourses.science.psu.edu.stat500/files/lesson02/skew_3.gif')"
     ],
     "language": "python",
     "metadata": {},
     "outputs": [
      {
       "html": [
        "<img src=\"https://onlinecourses.science.psu.edu/stat500/sites/onlinecourses.science.psu.edu.stat500/files/lesson02/skew_3.gif\"/>"
       ],
       "metadata": {},
       "output_type": "pyout",
       "prompt_number": 191,
       "text": [
        "<IPython.core.display.Image at 0x10d1df890>"
       ]
      }
     ],
     "prompt_number": 191
    },
    {
     "cell_type": "markdown",
     "metadata": {},
     "source": [
      "The distribution above is skewed to the right."
     ]
    },
    {
     "cell_type": "markdown",
     "metadata": {},
     "source": [
      "##Based on Type of Variable\n",
      "Use the following summary table to know what the best measure of central tendency is with respect to the different types of variable.\n",
      "\n",
      "Type of Variable |Example|\tBest measure of central tendency\n",
      "----|---\n",
      "Nominal (Categories in no order)| Gender |\tMode\n",
      "Ordinal (Ordered categories )|A 1-5 scored survey|\tMedian\n",
      "Interval/Ratio |IQ scores|(not skewed)\tMean\n",
      "Interval/Ratio |Tax brackets|(skewed)\tMedian"
     ]
    },
    {
     "cell_type": "markdown",
     "metadata": {},
     "source": [
      "#Excercise 1"
     ]
    },
    {
     "cell_type": "markdown",
     "metadata": {},
     "source": [
      "A student is researching how much money a college graduate can expect to earn based on his major. He finds the following interesting facts:\n",
      "\n",
      "- Basketball superstar Michael Jordan was a geology major at UNC.\n",
      "\n",
      "For geology majors from UNC, the **median** income will be ( `<, > or =` ) the **mean**."
     ]
    },
    {
     "cell_type": "code",
     "collapsed": false,
     "input": [
      "# Place the right operator ( <, > or == ) between the two expressions\n",
      "ex1.unc.median()  ex1.unc.mean()"
     ],
     "language": "python",
     "metadata": {},
     "outputs": [],
     "prompt_number": 171
    },
    {
     "cell_type": "markdown",
     "metadata": {},
     "source": [
      "- There were only 3 civil engineering majors from University of Montana. They all took the exact same job at the same company, earning the same salary."
     ]
    },
    {
     "cell_type": "markdown",
     "metadata": {},
     "source": [
      "For civil engineer majors from Montana, the median income will be  ( `<, > or =` ) the **mean**."
     ]
    },
    {
     "cell_type": "code",
     "collapsed": false,
     "input": [
      "# Place the right operator ( <, > or == ) between the two expressions\n",
      "ex1.montana.median()  ex1.montana.mean()"
     ],
     "language": "python",
     "metadata": {},
     "outputs": [],
     "prompt_number": 173
    },
    {
     "cell_type": "markdown",
     "metadata": {},
     "source": [
      "- Of the 35 finance majors form Wesleyan University, 32 got high-paying consulting jobs, and the other 3 were unemployed."
     ]
    },
    {
     "cell_type": "markdown",
     "metadata": {},
     "source": [
      "For finance majors form Wesleyan, the median income will likely be ( `<, > or =` ) the mean"
     ]
    },
    {
     "cell_type": "code",
     "collapsed": false,
     "input": [
      "# Place the right operator ( <, > or == ) between the two expressions\n",
      "ex1.wesleyan.median()  ex1.wesleyan.mean()"
     ],
     "language": "python",
     "metadata": {},
     "outputs": []
    },
    {
     "cell_type": "markdown",
     "metadata": {},
     "source": [
      "###Wait...??... I'm still confused....\n",
      "Watch an explanation of the answers."
     ]
    },
    {
     "cell_type": "code",
     "collapsed": false,
     "input": [
      "YouTubeVideo('eLyLbaXfJXo', width=700, height=500)"
     ],
     "language": "python",
     "metadata": {},
     "outputs": [
      {
       "html": [
        "\n",
        "        <iframe\n",
        "            width=\"700\"\n",
        "            height=500\"\n",
        "            src=\"https://www.youtube.com/embed/eLyLbaXfJXo\"\n",
        "            frameborder=\"0\"\n",
        "            allowfullscreen\n",
        "        ></iframe>\n",
        "        "
       ],
       "metadata": {},
       "output_type": "pyout",
       "prompt_number": 161,
       "text": [
        "<IPython.lib.display.YouTubeVideo at 0x10cdec350>"
       ]
      }
     ],
     "prompt_number": 161
    },
    {
     "cell_type": "markdown",
     "metadata": {},
     "source": [
      "# Excercise 2"
     ]
    },
    {
     "cell_type": "markdown",
     "metadata": {},
     "source": [
      "- Consider the Weather data."
     ]
    },
    {
     "cell_type": "code",
     "collapsed": false,
     "input": [
      "#Dataframe\n",
      "ex2"
     ],
     "language": "python",
     "metadata": {},
     "outputs": [
      {
       "html": [
        "<div style=\"max-height:1000px;max-width:1500px;overflow:auto;\">\n",
        "<table border=\"1\" class=\"dataframe\">\n",
        "  <thead>\n",
        "    <tr style=\"text-align: right;\">\n",
        "      <th></th>\n",
        "      <th>EDT</th>\n",
        "      <th>Max TemperatureF</th>\n",
        "      <th>Mean TemperatureF</th>\n",
        "      <th>Min TemperatureF</th>\n",
        "      <th>Max Dew PointF</th>\n",
        "      <th>MeanDew PointF</th>\n",
        "      <th>Min DewpointF</th>\n",
        "      <th>Max Humidity</th>\n",
        "      <th> Mean Humidity</th>\n",
        "      <th> Min Humidity</th>\n",
        "      <th> Max Sea Level PressureIn</th>\n",
        "      <th> Mean Sea Level PressureIn</th>\n",
        "      <th> Min Sea Level PressureIn</th>\n",
        "      <th> Max VisibilityMiles</th>\n",
        "      <th> Mean VisibilityMiles</th>\n",
        "      <th> Min VisibilityMiles</th>\n",
        "      <th> Max Wind SpeedMPH</th>\n",
        "      <th> Mean Wind SpeedMPH</th>\n",
        "      <th> Max Gust SpeedMPH</th>\n",
        "      <th>PrecipitationIn</th>\n",
        "      <th> CloudCover</th>\n",
        "      <th> Events</th>\n",
        "      <th> WindDirDegrees</th>\n",
        "    </tr>\n",
        "  </thead>\n",
        "  <tbody>\n",
        "    <tr>\n",
        "      <th>0</th>\n",
        "      <td> 2012-3-10</td>\n",
        "      <td> 56</td>\n",
        "      <td> 40</td>\n",
        "      <td> 24</td>\n",
        "      <td> 24</td>\n",
        "      <td> 20</td>\n",
        "      <td> 16</td>\n",
        "      <td>  74</td>\n",
        "      <td> 50</td>\n",
        "      <td> 26</td>\n",
        "      <td> 30.53</td>\n",
        "      <td> 30.45</td>\n",
        "      <td> 30.34</td>\n",
        "      <td> 10</td>\n",
        "      <td> 10</td>\n",
        "      <td> 10</td>\n",
        "      <td> 13</td>\n",
        "      <td>  6</td>\n",
        "      <td> 17</td>\n",
        "      <td> 0.00</td>\n",
        "      <td> 0</td>\n",
        "      <td>               NaN</td>\n",
        "      <td> 138</td>\n",
        "    </tr>\n",
        "    <tr>\n",
        "      <th>1</th>\n",
        "      <td> 2012-3-11</td>\n",
        "      <td> 67</td>\n",
        "      <td> 49</td>\n",
        "      <td> 30</td>\n",
        "      <td> 43</td>\n",
        "      <td> 31</td>\n",
        "      <td> 24</td>\n",
        "      <td>  78</td>\n",
        "      <td> 53</td>\n",
        "      <td> 28</td>\n",
        "      <td> 30.37</td>\n",
        "      <td> 30.27</td>\n",
        "      <td> 30.13</td>\n",
        "      <td> 10</td>\n",
        "      <td> 10</td>\n",
        "      <td> 10</td>\n",
        "      <td> 22</td>\n",
        "      <td>  7</td>\n",
        "      <td> 32</td>\n",
        "      <td>    T</td>\n",
        "      <td> 1</td>\n",
        "      <td>              Rain</td>\n",
        "      <td> 163</td>\n",
        "    </tr>\n",
        "    <tr>\n",
        "      <th>2</th>\n",
        "      <td> 2012-3-12</td>\n",
        "      <td> 71</td>\n",
        "      <td> 62</td>\n",
        "      <td> 53</td>\n",
        "      <td> 59</td>\n",
        "      <td> 55</td>\n",
        "      <td> 43</td>\n",
        "      <td>  90</td>\n",
        "      <td> 76</td>\n",
        "      <td> 61</td>\n",
        "      <td> 30.13</td>\n",
        "      <td> 29.99</td>\n",
        "      <td> 29.88</td>\n",
        "      <td> 10</td>\n",
        "      <td> 10</td>\n",
        "      <td>  6</td>\n",
        "      <td> 24</td>\n",
        "      <td> 14</td>\n",
        "      <td> 36</td>\n",
        "      <td> 0.03</td>\n",
        "      <td> 6</td>\n",
        "      <td>              Rain</td>\n",
        "      <td> 190</td>\n",
        "    </tr>\n",
        "    <tr>\n",
        "      <th>3</th>\n",
        "      <td> 2012-3-13</td>\n",
        "      <td> 76</td>\n",
        "      <td> 63</td>\n",
        "      <td> 50</td>\n",
        "      <td> 57</td>\n",
        "      <td> 53</td>\n",
        "      <td> 47</td>\n",
        "      <td>  93</td>\n",
        "      <td> 66</td>\n",
        "      <td> 38</td>\n",
        "      <td> 30.12</td>\n",
        "      <td> 30.06</td>\n",
        "      <td> 29.97</td>\n",
        "      <td> 10</td>\n",
        "      <td> 10</td>\n",
        "      <td>  4</td>\n",
        "      <td> 16</td>\n",
        "      <td>  5</td>\n",
        "      <td> 24</td>\n",
        "      <td> 0.00</td>\n",
        "      <td> 0</td>\n",
        "      <td>               NaN</td>\n",
        "      <td> 242</td>\n",
        "    </tr>\n",
        "    <tr>\n",
        "      <th>4</th>\n",
        "      <td> 2012-3-14</td>\n",
        "      <td> 80</td>\n",
        "      <td> 62</td>\n",
        "      <td> 44</td>\n",
        "      <td> 58</td>\n",
        "      <td> 52</td>\n",
        "      <td> 43</td>\n",
        "      <td>  93</td>\n",
        "      <td> 68</td>\n",
        "      <td> 42</td>\n",
        "      <td> 30.15</td>\n",
        "      <td> 30.10</td>\n",
        "      <td> 30.04</td>\n",
        "      <td> 10</td>\n",
        "      <td> 10</td>\n",
        "      <td> 10</td>\n",
        "      <td> 16</td>\n",
        "      <td>  6</td>\n",
        "      <td> 22</td>\n",
        "      <td> 0.00</td>\n",
        "      <td> 0</td>\n",
        "      <td>               NaN</td>\n",
        "      <td> 202</td>\n",
        "    </tr>\n",
        "    <tr>\n",
        "      <th>5</th>\n",
        "      <td> 2012-3-15</td>\n",
        "      <td> 79</td>\n",
        "      <td> 69</td>\n",
        "      <td> 58</td>\n",
        "      <td> 61</td>\n",
        "      <td> 58</td>\n",
        "      <td> 53</td>\n",
        "      <td>  90</td>\n",
        "      <td> 69</td>\n",
        "      <td> 48</td>\n",
        "      <td> 30.13</td>\n",
        "      <td> 30.08</td>\n",
        "      <td> 30.02</td>\n",
        "      <td> 10</td>\n",
        "      <td> 10</td>\n",
        "      <td> 10</td>\n",
        "      <td> 31</td>\n",
        "      <td> 10</td>\n",
        "      <td> 41</td>\n",
        "      <td> 0.04</td>\n",
        "      <td> 3</td>\n",
        "      <td> Rain-Thunderstorm</td>\n",
        "      <td> 209</td>\n",
        "    </tr>\n",
        "    <tr>\n",
        "      <th>6</th>\n",
        "      <td> 2012-3-16</td>\n",
        "      <td> 75</td>\n",
        "      <td> 64</td>\n",
        "      <td> 52</td>\n",
        "      <td> 57</td>\n",
        "      <td> 54</td>\n",
        "      <td> 51</td>\n",
        "      <td> 100</td>\n",
        "      <td> 75</td>\n",
        "      <td> 49</td>\n",
        "      <td> 30.14</td>\n",
        "      <td> 30.10</td>\n",
        "      <td> 30.07</td>\n",
        "      <td> 10</td>\n",
        "      <td> 10</td>\n",
        "      <td> 10</td>\n",
        "      <td> 14</td>\n",
        "      <td>  5</td>\n",
        "      <td> 20</td>\n",
        "      <td>    T</td>\n",
        "      <td> 2</td>\n",
        "      <td>               NaN</td>\n",
        "      <td> 169</td>\n",
        "    </tr>\n",
        "    <tr>\n",
        "      <th>7</th>\n",
        "      <td> 2012-3-17</td>\n",
        "      <td> 78</td>\n",
        "      <td> 62</td>\n",
        "      <td> 46</td>\n",
        "      <td> 60</td>\n",
        "      <td> 54</td>\n",
        "      <td> 46</td>\n",
        "      <td> 100</td>\n",
        "      <td> 78</td>\n",
        "      <td> 56</td>\n",
        "      <td> 30.15</td>\n",
        "      <td> 30.11</td>\n",
        "      <td> 30.04</td>\n",
        "      <td> 10</td>\n",
        "      <td>  5</td>\n",
        "      <td>  0</td>\n",
        "      <td> 12</td>\n",
        "      <td>  5</td>\n",
        "      <td> 17</td>\n",
        "      <td>    T</td>\n",
        "      <td> 3</td>\n",
        "      <td>  Fog-Thunderstorm</td>\n",
        "      <td> 162</td>\n",
        "    </tr>\n",
        "    <tr>\n",
        "      <th>8</th>\n",
        "      <td> 2012-3-18</td>\n",
        "      <td> 80</td>\n",
        "      <td> 70</td>\n",
        "      <td> 59</td>\n",
        "      <td> 61</td>\n",
        "      <td> 58</td>\n",
        "      <td> 57</td>\n",
        "      <td>  93</td>\n",
        "      <td> 69</td>\n",
        "      <td> 45</td>\n",
        "      <td> 30.14</td>\n",
        "      <td> 30.07</td>\n",
        "      <td> 30.02</td>\n",
        "      <td> 10</td>\n",
        "      <td> 10</td>\n",
        "      <td>  9</td>\n",
        "      <td> 18</td>\n",
        "      <td>  8</td>\n",
        "      <td> 25</td>\n",
        "      <td>    T</td>\n",
        "      <td> 2</td>\n",
        "      <td>              Rain</td>\n",
        "      <td> 197</td>\n",
        "    </tr>\n",
        "    <tr>\n",
        "      <th>9</th>\n",
        "      <td> 2012-3-19</td>\n",
        "      <td> 84</td>\n",
        "      <td> 72</td>\n",
        "      <td> 59</td>\n",
        "      <td> 58</td>\n",
        "      <td> 56</td>\n",
        "      <td> 50</td>\n",
        "      <td>  90</td>\n",
        "      <td> 66</td>\n",
        "      <td> 42</td>\n",
        "      <td> 30.09</td>\n",
        "      <td> 30.03</td>\n",
        "      <td> 29.98</td>\n",
        "      <td> 10</td>\n",
        "      <td> 10</td>\n",
        "      <td> 10</td>\n",
        "      <td> 17</td>\n",
        "      <td>  6</td>\n",
        "      <td> 23</td>\n",
        "      <td> 0.00</td>\n",
        "      <td> 1</td>\n",
        "      <td>               NaN</td>\n",
        "      <td> 165</td>\n",
        "    </tr>\n",
        "    <tr>\n",
        "      <th></th>\n",
        "      <td>...</td>\n",
        "      <td>...</td>\n",
        "      <td>...</td>\n",
        "      <td>...</td>\n",
        "      <td>...</td>\n",
        "      <td>...</td>\n",
        "      <td>...</td>\n",
        "      <td>...</td>\n",
        "      <td>...</td>\n",
        "      <td>...</td>\n",
        "      <td>...</td>\n",
        "      <td>...</td>\n",
        "      <td>...</td>\n",
        "      <td>...</td>\n",
        "      <td>...</td>\n",
        "      <td>...</td>\n",
        "      <td>...</td>\n",
        "      <td>...</td>\n",
        "      <td>...</td>\n",
        "      <td>...</td>\n",
        "      <td>...</td>\n",
        "      <td>...</td>\n",
        "      <td>...</td>\n",
        "    </tr>\n",
        "  </tbody>\n",
        "</table>\n",
        "<p>366 rows \u00d7 23 columns</p>\n",
        "</div>"
       ],
       "metadata": {},
       "output_type": "pyout",
       "prompt_number": 214,
       "text": [
        "         EDT  Max TemperatureF  Mean TemperatureF  Min TemperatureF  \\\n",
        "0  2012-3-10                56                 40                24   \n",
        "1  2012-3-11                67                 49                30   \n",
        "2  2012-3-12                71                 62                53   \n",
        "3  2012-3-13                76                 63                50   \n",
        "4  2012-3-14                80                 62                44   \n",
        "5  2012-3-15                79                 69                58   \n",
        "6  2012-3-16                75                 64                52   \n",
        "7  2012-3-17                78                 62                46   \n",
        "8  2012-3-18                80                 70                59   \n",
        "9  2012-3-19                84                 72                59   \n",
        "         ...               ...                ...               ...   \n",
        "\n",
        "   Max Dew PointF  MeanDew PointF  Min DewpointF  Max Humidity  \\\n",
        "0              24              20             16            74   \n",
        "1              43              31             24            78   \n",
        "2              59              55             43            90   \n",
        "3              57              53             47            93   \n",
        "4              58              52             43            93   \n",
        "5              61              58             53            90   \n",
        "6              57              54             51           100   \n",
        "7              60              54             46           100   \n",
        "8              61              58             57            93   \n",
        "9              58              56             50            90   \n",
        "              ...             ...            ...           ...   \n",
        "\n",
        "    Mean Humidity   Min Humidity   Max Sea Level PressureIn  \\\n",
        "0              50             26                      30.53   \n",
        "1              53             28                      30.37   \n",
        "2              76             61                      30.13   \n",
        "3              66             38                      30.12   \n",
        "4              68             42                      30.15   \n",
        "5              69             48                      30.13   \n",
        "6              75             49                      30.14   \n",
        "7              78             56                      30.15   \n",
        "8              69             45                      30.14   \n",
        "9              66             42                      30.09   \n",
        "              ...            ...                        ...   \n",
        "\n",
        "    Mean Sea Level PressureIn   Min Sea Level PressureIn  \\\n",
        "0                       30.45                      30.34   \n",
        "1                       30.27                      30.13   \n",
        "2                       29.99                      29.88   \n",
        "3                       30.06                      29.97   \n",
        "4                       30.10                      30.04   \n",
        "5                       30.08                      30.02   \n",
        "6                       30.10                      30.07   \n",
        "7                       30.11                      30.04   \n",
        "8                       30.07                      30.02   \n",
        "9                       30.03                      29.98   \n",
        "                          ...                        ...   \n",
        "\n",
        "    Max VisibilityMiles   Mean VisibilityMiles   Min VisibilityMiles  \\\n",
        "0                    10                     10                    10   \n",
        "1                    10                     10                    10   \n",
        "2                    10                     10                     6   \n",
        "3                    10                     10                     4   \n",
        "4                    10                     10                    10   \n",
        "5                    10                     10                    10   \n",
        "6                    10                     10                    10   \n",
        "7                    10                      5                     0   \n",
        "8                    10                     10                     9   \n",
        "9                    10                     10                    10   \n",
        "                    ...                    ...                   ...   \n",
        "\n",
        "    Max Wind SpeedMPH   Mean Wind SpeedMPH   Max Gust SpeedMPH  \\\n",
        "0                  13                    6                  17   \n",
        "1                  22                    7                  32   \n",
        "2                  24                   14                  36   \n",
        "3                  16                    5                  24   \n",
        "4                  16                    6                  22   \n",
        "5                  31                   10                  41   \n",
        "6                  14                    5                  20   \n",
        "7                  12                    5                  17   \n",
        "8                  18                    8                  25   \n",
        "9                  17                    6                  23   \n",
        "                  ...                  ...                 ...   \n",
        "\n",
        "  PrecipitationIn   CloudCover             Events   WindDirDegrees  \n",
        "0            0.00            0                NaN              138  \n",
        "1               T            1               Rain              163  \n",
        "2            0.03            6               Rain              190  \n",
        "3            0.00            0                NaN              242  \n",
        "4            0.00            0                NaN              202  \n",
        "5            0.04            3  Rain-Thunderstorm              209  \n",
        "6               T            2                NaN              169  \n",
        "7               T            3   Fog-Thunderstorm              162  \n",
        "8               T            2               Rain              197  \n",
        "9            0.00            1                NaN              165  \n",
        "              ...          ...                ...              ...  \n",
        "\n",
        "[366 rows x 23 columns]"
       ]
      }
     ],
     "prompt_number": 214
    },
    {
     "cell_type": "markdown",
     "metadata": {},
     "source": [
      "- Visualize the distribution of the mean humidity by creating a histogram. Explore different bin sizes."
     ]
    },
    {
     "cell_type": "code",
     "collapsed": false,
     "input": [
      "#As an example, I'll provide you with the syntax for Mean Temperature\n",
      "ex2['Mean TemperatureF'].hist(bins=100)"
     ],
     "language": "python",
     "metadata": {},
     "outputs": [
      {
       "metadata": {},
       "output_type": "pyout",
       "prompt_number": 218,
       "text": [
        "<matplotlib.axes.AxesSubplot at 0x10ca71110>"
       ]
      },
      {
       "metadata": {},
       "output_type": "display_data",
       "png": "[encoded data removed]",
       "text": [
        "<matplotlib.figure.Figure at 0x10ca87ad0>"
       ]
      }
     ],
     "prompt_number": 218
    },
    {
     "cell_type": "markdown",
     "metadata": {},
     "source": [
      "- Discuss which is the most appropriate measurement of central tendency."
     ]
    },
    {
     "cell_type": "markdown",
     "metadata": {},
     "source": [
      "#Sidenote: The Difference Between Bar Charts and Histograms\n",
      "\n",
      "Here is the main difference between bar charts and histograms. \n",
      "\n",
      "- With bar charts, each column represents a group defined by a categorical variable; and with \n",
      "- Histograms, each column represents a group defined by a quantitative variable. Histograms are based on area, not height of bars. In a histogram, it is the area of the bar that indicates the frequency of occurrences for each bin."
     ]
    },
    {
     "cell_type": "code",
     "collapsed": false,
     "input": [
      "Image(url='http://www.mathsisfun.com/data/images/bar-chart-vs-histogram.gif', width=600)"
     ],
     "language": "python",
     "metadata": {},
     "outputs": [
      {
       "html": [
        "<img src=\"http://www.mathsisfun.com/data/images/bar-chart-vs-histogram.gif\" width=\"600\"/>"
       ],
       "metadata": {},
       "output_type": "pyout",
       "prompt_number": 192,
       "text": [
        "<IPython.core.display.Image at 0x10d33d810>"
       ]
      }
     ],
     "prompt_number": 192
    },
    {
     "cell_type": "markdown",
     "metadata": {},
     "source": [
      "#FAQs\n",
      "\n",
      "Please find below some common questions that are asked regarding measures of central tendency, along with their answers. These FAQs are in addition to our article on measures of central tendency found on the previous page.\n",
      "\n",
      "###What is the best measure of central tendency?\n",
      "\n",
      "There can often be a \"best\" measure of central tendency with regards to the data you are analysing, but there is no one \"best\" measure of central tendency. This is because whether you use the median, mean or mode will depend on the type of data you have, such as nominal or continuous data; whether your data has outliers and/or is skewed; and what you are trying to show from your data. Further considerations of when to use each measure of central tendency is found in our guide on the previous page.\n",
      "###In a strongly skewed distribution, what is the best indicator of central tendency?\n",
      "\n",
      "It is usually inappropriate to use the mean in such situations where your data is skewed. You would normally choose the median or mode, with the median usually preferred. This is discussed on the previous page under the subtitle, \"When not to use the mean\".\n",
      "###Does all data have a median, mode and mean?\n",
      "\n",
      "Yes and no. All continuous data has a median, mode and mean. However, strictly speaking, ordinal data has a median and mode only, and nominal data has only a mode. However, a consensus has not been reached among statisticians about whether the mean can be used with ordinal data, and you can often see a mean reported for Likert data in research.\n",
      "###When is the mean the best measure of central tendency?\n",
      "\n",
      "The mean is usually the best measure of central tendency to use when your data distribution is continuous and symmetrical, such as when your data is normally distributed. However, it all depends on what you are trying to show from your data.\n",
      "\n",
      "###When is the mode the best measure of central tendency?\n",
      "\n",
      "The mode is the least used of the measures of central tendency and can only be used when dealing with nominal data. For this reason, the mode will be the best measure of central tendency (as it is the only one appropriate to use) when dealing with nominal data. The mean and/or median are usually preferred when dealing with all other types of data, but this does not mean it is never used with these data types.\n",
      "###When is the median the best measure of central tendency?\n",
      "\n",
      "The median is usually preferred to other measures of central tendency when your data set is skewed (i.e., forms a skewed distribution) or you are dealing with ordinal data. However, the mode can also be appropriate in these situations, but is not as commonly used as the median.\n",
      "###What is the most appropriate measure of central tendency when the data has outliers?\n",
      "\n",
      "The median is usually preferred in these situations because the value of the mean can be distorted by the outliers. However, it will depend on how influential the outliers are. If they do not significantly distort the mean, using the mean as the measure of central tendency will usually be preferred.\n",
      "###In a normally distributed data set, which is greatest: mode, median or mean?\n",
      "\n",
      "If the data set is perfectly normal, the mean, median and mean are equal to each other (i.e., the same value).\n",
      "###For any data set, which measures of central tendency have only one value?\n",
      "\n",
      "The median and mean can only have one value for a given data set. The mode can have more than one value."
     ]
    },
    {
     "cell_type": "markdown",
     "metadata": {},
     "source": [
      "#Glossary of Terms and Symbols\n",
      "- Bimodal: A distribution that has two values that have the highest frequency of scores.\n",
      "- Distribution: A collection, or group, of scores from a sample on a single variable. Often, but not necessarily, these scores are arranged in order from smallest to largest.\n",
      "- Mean: The arithmetic average of a distribution of scores.\n",
      "- Median split: Dividing a distribution of scores into two equal groups by using the median score as the divider. Those scores above the median are the \u201chigh\u201d group whereas those below the median are the \u201clow\u201d group.\n",
      "- Median: The score in a distribution that marks the 50th percentile. It is the score at which 50% of the distribution falls below and 50% fall above.\n",
      "- Mode: The score in the distribution that occurs most frequently.\n",
      "- Multimodal: When a distribution of scores has two or more values that have the highest frequency of scores.\n",
      "- Negative skew: In a skewed distribution, when most of the scores are clustered at the higher end of the distribution with a few scores creating a tail at the lower end of the distribution.\n",
      "- Outliers: Extreme scores that are more than two standard deviations above or below the mean.\n",
      "- Positive skew: In a skewed distribution, when most of the scores are clustered at the lower end of the distribution with a few scores creating a tail at the higher end of the distribution.\n",
      "- Parameter: A value derived from the data collected from a population, or the value inferred to the population from a sample statistic.\n",
      "- Population: The group from which data are collected or a sample is selected.\n",
      "- The population encompasses the entire group for which the data are alleged to apply.\n",
      "- Sample: An individual or group, selected from a population, from whom or which data are collected.\n",
      "- Skew: When a distribution of scores has a high number of scores clustered at one end of the distribution with relatively few scores spread out toward the other end of the distribu- tion, forming a tail.\n",
      "- Statistic: A value derived from the data collected from a sample.\n"
     ]
    },
    {
     "cell_type": "markdown",
     "metadata": {},
     "source": [
      "###Symbols:\n",
      "\n",
      "\u2211   The sum of; to sum.\n",
      "\n",
      "X   An individual score in a distribution.\n",
      "\n",
      "\u2211X  The sum of X; adding up all of the scores in a distribution.\n",
      "\n",
      "\n",
      "X(bar)   The mean of a sample.\n",
      "\n",
      "\u03bc   The mean of a population.\n",
      "\n",
      "n   The number of cases, or scores, in a sample.\n",
      "\n",
      "N   The number of cases, or scores, in a population.\n",
      "\n",
      "P_50 Symbol for the median."
     ]
    },
    {
     "cell_type": "markdown",
     "metadata": {},
     "source": [
      "#Resources\n",
      "- [Statistics in Plain English - Timothy Urdan](http://students.ceid.upatras.gr/~aggelidis/stats/Statistics%20in%20Plain%20English,%20Third%20Edition%20by%20Timothy%20C.%20Urdan%20%28May%2025,%202010%29.pdf)\n",
      "- [Khan Academy - Descriptive Statistics (IPython notebook)](http://nbviewer.ipython.org/github/kenbolton/khan-academy-probability-statistics-ipynb/blob/master/Khan%20Academy%20-%20Descriptive%20Statistics.ipynb)\n",
      "- [Laerd Statistics - Measures of Central Tendency](https://statistics.laerd.com/statistical-guides/measures-central-tendency-mean-mode-median.php)\n",
      "- [PennState - STAT 500 Applied Stats](https://onlinecourses.science.psu.edu/stat500/)"
     ]
    }
   ],
   "metadata": {}
  }
 ]
}