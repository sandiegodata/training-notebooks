{
 "metadata": {
  "name": "",
  "signature": "sha256:d4a8d4939976b7a1eb3f8a399ca826ffd3eb1346815a5763f3d07e93e7e918a2"
 },
 "nbformat": 3,
 "nbformat_minor": 0,
 "worksheets": [
  {
   "cells": [
    {
     "cell_type": "markdown",
     "metadata": {},
     "source": [
      "#San Diego Crime\n",
      "The San Diego Crime Incidents dataset contains about a million geocoded crime incidents from 2006 to 2012. \n",
      "\n",
      "You can get the data set as a CSV file from the [data repository](http://data.sandiegodata.org/dataset/clarinova_com-crime-incidents-casnd-7ba4-extract) or from Ambry as clarinova.com-crime-incidents-casnd-geocoded. The dataset has many features for analysis, including the time, location and type of incident. \n",
      "\n",
      "Exercises you can do with this data, roughly in order of difficulty. \n",
      "\n",
      "1. Rank the communities of San Diego for car theft.\n",
      "2. Rank the communities by the difference in DUIs between the times 10:00 PM and 2:00AM.\n",
      "3. Replicate some of the Rhythm Maps, from the [crime analysis notebooks](http://notebooks.sandiegodata.org/). ( Click the \"</>\" icon to expose the code. ) \n",
      "4. Find the San Diego community that has the largest change, aggregated by week of year, in the number of DUIs per week. \n",
      "5. Find the crime type and community for which the cyclic patterns of the crime over the week changes the most over the course of the year.\n",
      "    a. First, determine how the rates or counts of the crime changes from Sunday to Saturday over the course of the week.  Find the peak day and the trough day in the week\n",
      "    b. Compare all of the weeks in the year to find the maximum difference in the trough days and peak days.\n",
      "    c. Perform that analysis for all San Diego community / crime type combinations to find the largest discrepancies.  \n",
      "\n",
      "Extra-Awesomeness: Link crimes data set with liquor licence data set and:\n",
      "- Correlate the rates of each crime type to the [locations of alcohol permits.](http://data.sandiegodata.org/dataset/clarinova_com-alcohol_licenses-casnd-429e-extract)\n",
      "     "
     ]
    },
    {
     "cell_type": "code",
     "collapsed": false,
     "input": [],
     "language": "python",
     "metadata": {},
     "outputs": []
    }
   ],
   "metadata": {}
  }
 ]
}