{
 "metadata": {
  "name": "",
  "signature": "sha256:4cbc0483e73bcd20979bbca5bfb38581eb4a0a1b6fd65f92afe1af051130fa2e"
 },
 "nbformat": 3,
 "nbformat_minor": 0,
 "worksheets": [
  {
   "cells": [
    {
     "cell_type": "code",
     "collapsed": false,
     "input": [
      "from IPython.display import Image\n",
      "Image(url='http://media.groupspaces.com/thumb/s/8151798/h/84fed2d0a02e40fe00cac0ebf708e872.jpg')"
     ],
     "language": "python",
     "metadata": {},
     "outputs": [
      {
       "html": [
        "<img src=\"http://media.groupspaces.com/thumb/s/8151798/h/84fed2d0a02e40fe00cac0ebf708e872.jpg\"/>"
       ],
       "metadata": {},
       "output_type": "pyout",
       "prompt_number": 104,
       "text": [
        "<IPython.core.display.Image at 0x107f53b90>"
       ]
      }
     ],
     "prompt_number": 104
    },
    {
     "cell_type": "code",
     "collapsed": false,
     "input": [
      "%matplotlib inline\n",
      "import numpy as np\n",
      "import matplotlib as mpl\n",
      "import pandas as pd\n",
      "from IPython.display import Math\n",
      "weather=pd.read_csv('https://raw.githubusercontent.com/apawlik/2014-04-09-GARNET/gh-pages/lessons/garnet/pandas/data/weather_year.csv')"
     ],
     "language": "python",
     "metadata": {},
     "outputs": [],
     "prompt_number": 105
    },
    {
     "cell_type": "markdown",
     "metadata": {},
     "source": [
      "#Measures of Variability\n",
      "\n",
      "##If your head is in the freezer and your feet are in the oven, on average you\u2019re comfortable.\n",
      "\n",
      "Mean, median and mode provide useful information, but it is important to recognize that these measures are limited\n",
      "and, by themselves, do not provide a great deal of information. "
     ]
    },
    {
     "cell_type": "markdown",
     "metadata": {},
     "source": [
      "###Suppose... \n",
      "I gave a sample of 100 fifth-grade children a survey to assess their level of depression. Suppose further that this sample had a mean of 10.0 on my depression survey and a median of 10.0 as well. All we know from this information is that the mean and median are in the same place in my distribution, and this place is 10.0. \n",
      "\n",
      "Now consider **what we do not know**. \n",
      "- We do not know if this is a high score or a low score. \n",
      "- We do not know if all of the students in my sample have about the same level of depression or if they differ from each other. We do not know the highest depression score in our distribution or the lowest score. \n",
      "\n",
      "Simply put, we do not yet know anything about the **dispersion or spread** of scores in the distribution. In other words, we do not\n",
      "yet know anything about the variety of the scores in the distribution.\n",
      "\n",
      "There are three measures of dispersion that researchers typically examine: \n",
      "- the range, \n",
      "- the variance, \n",
      "- and the standard deviation. \n",
      "\n",
      "Of these, the standard deviation is perhaps the most informative and certainly the most widely used."
     ]
    },
    {
     "cell_type": "markdown",
     "metadata": {},
     "source": [
      "##Box-and-Whisker Plots\n",
      "A box and whisker plot is a graphical method of displaying variation or spread in a set of data. In most cases a histogram provides a sufficient display; however, a box and whisker plot can provide additional detail while allowing multiple sets of data to be displayed in the same graph. \n",
      "- Why Use a Box and Whisker Plot?\n",
      "\n",
      "Box and whisker plots are very effective and easy to read. They summarize data from multiple sources and display the results in a single graph. Box and whisker plots allow for comparison of data from different categories for easier, more effective decision-making.\n",
      "- When to Use a Box and Whisker Plot\n",
      "\n",
      "Use box and whisker plots when you have multiple data sets from independent sources that are related to each other in some way. Examples include test scores between schools or classrooms, data from before and after a process change, similar features on one part such as cam shaft lobes, or data from duplicate machines manufacturing the same products.\n",
      "\n",
      "- Box and Whisker Plot Procedure\n",
      "\n",
      "A box and whisker plot is developed from five statistics.\n",
      "\n",
      "    Minimum value \u2013 the smallest value in the data set\n",
      "    Second quartile \u2013 the value below which the lower 25% of the data are contained\n",
      "    Median value \u2013 the middle number in a range of numbers\n",
      "    Third quartile \u2013 the value above which the upper 25% of the data are contained\n",
      "    Maximum value \u2013 the largest value in the data set\n",
      "\n",
      "###How to read a Box-and-Whisker Plot"
     ]
    },
    {
     "cell_type": "code",
     "collapsed": false,
     "input": [
      "from IPython.display import YouTubeVideo\n",
      "YouTubeVideo('b2C9I8HuCe4', width=700, height=500)"
     ],
     "language": "python",
     "metadata": {},
     "outputs": [
      {
       "html": [
        "\n",
        "        <iframe\n",
        "            width=\"700\"\n",
        "            height=500\"\n",
        "            src=\"https://www.youtube.com/embed/b2C9I8HuCe4\"\n",
        "            frameborder=\"0\"\n",
        "            allowfullscreen\n",
        "        ></iframe>\n",
        "        "
       ],
       "metadata": {},
       "output_type": "pyout",
       "prompt_number": 106,
       "text": [
        "<IPython.lib.display.YouTubeVideo at 0x107f5a7d0>"
       ]
      }
     ],
     "prompt_number": 106
    },
    {
     "cell_type": "markdown",
     "metadata": {},
     "source": [
      "###Constructing a box-and-whisker plot\n",
      "Let's construct our own box-and-whisker plot using the weather dataset."
     ]
    },
    {
     "cell_type": "code",
     "collapsed": false,
     "input": [
      "weather.head()"
     ],
     "language": "python",
     "metadata": {},
     "outputs": [
      {
       "html": [
        "<div style=\"max-height:1000px;max-width:1500px;overflow:auto;\">\n",
        "<table border=\"1\" class=\"dataframe\">\n",
        "  <thead>\n",
        "    <tr style=\"text-align: right;\">\n",
        "      <th></th>\n",
        "      <th>EDT</th>\n",
        "      <th>Max TemperatureF</th>\n",
        "      <th>Mean TemperatureF</th>\n",
        "      <th>Min TemperatureF</th>\n",
        "      <th>Max Dew PointF</th>\n",
        "      <th>MeanDew PointF</th>\n",
        "      <th>Min DewpointF</th>\n",
        "      <th>Max Humidity</th>\n",
        "      <th> Mean Humidity</th>\n",
        "      <th> Min Humidity</th>\n",
        "      <th> Max Sea Level PressureIn</th>\n",
        "      <th> Mean Sea Level PressureIn</th>\n",
        "      <th> Min Sea Level PressureIn</th>\n",
        "      <th> Max VisibilityMiles</th>\n",
        "      <th> Mean VisibilityMiles</th>\n",
        "      <th> Min VisibilityMiles</th>\n",
        "      <th> Max Wind SpeedMPH</th>\n",
        "      <th> Mean Wind SpeedMPH</th>\n",
        "      <th> Max Gust SpeedMPH</th>\n",
        "      <th>PrecipitationIn</th>\n",
        "      <th></th>\n",
        "    </tr>\n",
        "  </thead>\n",
        "  <tbody>\n",
        "    <tr>\n",
        "      <th>0</th>\n",
        "      <td> 2012-3-10</td>\n",
        "      <td> 56</td>\n",
        "      <td> 40</td>\n",
        "      <td> 24</td>\n",
        "      <td> 24</td>\n",
        "      <td> 20</td>\n",
        "      <td> 16</td>\n",
        "      <td> 74</td>\n",
        "      <td> 50</td>\n",
        "      <td> 26</td>\n",
        "      <td> 30.53</td>\n",
        "      <td> 30.45</td>\n",
        "      <td> 30.34</td>\n",
        "      <td> 10</td>\n",
        "      <td> 10</td>\n",
        "      <td> 10</td>\n",
        "      <td> 13</td>\n",
        "      <td>  6</td>\n",
        "      <td> 17</td>\n",
        "      <td> 0.00</td>\n",
        "      <td>...</td>\n",
        "    </tr>\n",
        "    <tr>\n",
        "      <th>1</th>\n",
        "      <td> 2012-3-11</td>\n",
        "      <td> 67</td>\n",
        "      <td> 49</td>\n",
        "      <td> 30</td>\n",
        "      <td> 43</td>\n",
        "      <td> 31</td>\n",
        "      <td> 24</td>\n",
        "      <td> 78</td>\n",
        "      <td> 53</td>\n",
        "      <td> 28</td>\n",
        "      <td> 30.37</td>\n",
        "      <td> 30.27</td>\n",
        "      <td> 30.13</td>\n",
        "      <td> 10</td>\n",
        "      <td> 10</td>\n",
        "      <td> 10</td>\n",
        "      <td> 22</td>\n",
        "      <td>  7</td>\n",
        "      <td> 32</td>\n",
        "      <td>    T</td>\n",
        "      <td>...</td>\n",
        "    </tr>\n",
        "    <tr>\n",
        "      <th>2</th>\n",
        "      <td> 2012-3-12</td>\n",
        "      <td> 71</td>\n",
        "      <td> 62</td>\n",
        "      <td> 53</td>\n",
        "      <td> 59</td>\n",
        "      <td> 55</td>\n",
        "      <td> 43</td>\n",
        "      <td> 90</td>\n",
        "      <td> 76</td>\n",
        "      <td> 61</td>\n",
        "      <td> 30.13</td>\n",
        "      <td> 29.99</td>\n",
        "      <td> 29.88</td>\n",
        "      <td> 10</td>\n",
        "      <td> 10</td>\n",
        "      <td>  6</td>\n",
        "      <td> 24</td>\n",
        "      <td> 14</td>\n",
        "      <td> 36</td>\n",
        "      <td> 0.03</td>\n",
        "      <td>...</td>\n",
        "    </tr>\n",
        "    <tr>\n",
        "      <th>3</th>\n",
        "      <td> 2012-3-13</td>\n",
        "      <td> 76</td>\n",
        "      <td> 63</td>\n",
        "      <td> 50</td>\n",
        "      <td> 57</td>\n",
        "      <td> 53</td>\n",
        "      <td> 47</td>\n",
        "      <td> 93</td>\n",
        "      <td> 66</td>\n",
        "      <td> 38</td>\n",
        "      <td> 30.12</td>\n",
        "      <td> 30.06</td>\n",
        "      <td> 29.97</td>\n",
        "      <td> 10</td>\n",
        "      <td> 10</td>\n",
        "      <td>  4</td>\n",
        "      <td> 16</td>\n",
        "      <td>  5</td>\n",
        "      <td> 24</td>\n",
        "      <td> 0.00</td>\n",
        "      <td>...</td>\n",
        "    </tr>\n",
        "    <tr>\n",
        "      <th>4</th>\n",
        "      <td> 2012-3-14</td>\n",
        "      <td> 80</td>\n",
        "      <td> 62</td>\n",
        "      <td> 44</td>\n",
        "      <td> 58</td>\n",
        "      <td> 52</td>\n",
        "      <td> 43</td>\n",
        "      <td> 93</td>\n",
        "      <td> 68</td>\n",
        "      <td> 42</td>\n",
        "      <td> 30.15</td>\n",
        "      <td> 30.10</td>\n",
        "      <td> 30.04</td>\n",
        "      <td> 10</td>\n",
        "      <td> 10</td>\n",
        "      <td> 10</td>\n",
        "      <td> 16</td>\n",
        "      <td>  6</td>\n",
        "      <td> 22</td>\n",
        "      <td> 0.00</td>\n",
        "      <td>...</td>\n",
        "    </tr>\n",
        "  </tbody>\n",
        "</table>\n",
        "<p>5 rows \u00d7 23 columns</p>\n",
        "</div>"
       ],
       "metadata": {},
       "output_type": "pyout",
       "prompt_number": 107,
       "text": [
        "         EDT  Max TemperatureF  Mean TemperatureF  Min TemperatureF  \\\n",
        "0  2012-3-10                56                 40                24   \n",
        "1  2012-3-11                67                 49                30   \n",
        "2  2012-3-12                71                 62                53   \n",
        "3  2012-3-13                76                 63                50   \n",
        "4  2012-3-14                80                 62                44   \n",
        "\n",
        "   Max Dew PointF  MeanDew PointF  Min DewpointF  Max Humidity  \\\n",
        "0              24              20             16            74   \n",
        "1              43              31             24            78   \n",
        "2              59              55             43            90   \n",
        "3              57              53             47            93   \n",
        "4              58              52             43            93   \n",
        "\n",
        "    Mean Humidity   Min Humidity   Max Sea Level PressureIn  \\\n",
        "0              50             26                      30.53   \n",
        "1              53             28                      30.37   \n",
        "2              76             61                      30.13   \n",
        "3              66             38                      30.12   \n",
        "4              68             42                      30.15   \n",
        "\n",
        "    Mean Sea Level PressureIn   Min Sea Level PressureIn  \\\n",
        "0                       30.45                      30.34   \n",
        "1                       30.27                      30.13   \n",
        "2                       29.99                      29.88   \n",
        "3                       30.06                      29.97   \n",
        "4                       30.10                      30.04   \n",
        "\n",
        "    Max VisibilityMiles   Mean VisibilityMiles   Min VisibilityMiles  \\\n",
        "0                    10                     10                    10   \n",
        "1                    10                     10                    10   \n",
        "2                    10                     10                     6   \n",
        "3                    10                     10                     4   \n",
        "4                    10                     10                    10   \n",
        "\n",
        "    Max Wind SpeedMPH   Mean Wind SpeedMPH   Max Gust SpeedMPH  \\\n",
        "0                  13                    6                  17   \n",
        "1                  22                    7                  32   \n",
        "2                  24                   14                  36   \n",
        "3                  16                    5                  24   \n",
        "4                  16                    6                  22   \n",
        "\n",
        "  PrecipitationIn      \n",
        "0            0.00 ...  \n",
        "1               T ...  \n",
        "2            0.03 ...  \n",
        "3            0.00 ...  \n",
        "4            0.00 ...  \n",
        "\n",
        "[5 rows x 23 columns]"
       ]
      }
     ],
     "prompt_number": 107
    },
    {
     "cell_type": "code",
     "collapsed": false,
     "input": [
      "weather[['MeanDew PointF']].boxplot(vert=False)"
     ],
     "language": "python",
     "metadata": {},
     "outputs": [
      {
       "metadata": {},
       "output_type": "pyout",
       "prompt_number": 108,
       "text": [
        "{'boxes': [<matplotlib.lines.Line2D at 0x10806d110>],\n",
        " 'caps': [<matplotlib.lines.Line2D at 0x10806b710>,\n",
        "  <matplotlib.lines.Line2D at 0x10806bbd0>],\n",
        " 'fliers': [<matplotlib.lines.Line2D at 0x10806db10>,\n",
        "  <matplotlib.lines.Line2D at 0x10806dfd0>],\n",
        " 'medians': [<matplotlib.lines.Line2D at 0x10806d610>],\n",
        " 'whiskers': [<matplotlib.lines.Line2D at 0x108089bd0>,\n",
        "  <matplotlib.lines.Line2D at 0x10806b210>]}"
       ]
      },
      {
       "metadata": {},
       "output_type": "display_data",
       "png": "[encoded data removed]",
       "text": [
        "<matplotlib.figure.Figure at 0x107f58710>"
       ]
      }
     ],
     "prompt_number": 108
    },
    {
     "cell_type": "markdown",
     "metadata": {},
     "source": [
      "Can you do the same for the mean temperature? What can you say about the spread of the data? Reflect on min, max, range, and skewness of the temperatures."
     ]
    },
    {
     "cell_type": "code",
     "collapsed": false,
     "input": [],
     "language": "python",
     "metadata": {},
     "outputs": [],
     "prompt_number": 108
    },
    {
     "cell_type": "markdown",
     "metadata": {},
     "source": [
      "#Variance of population"
     ]
    },
    {
     "cell_type": "code",
     "collapsed": false,
     "input": [
      "YouTubeVideo('dvoHB9djouc', width=700, height=500)"
     ],
     "language": "python",
     "metadata": {},
     "outputs": [
      {
       "html": [
        "\n",
        "        <iframe\n",
        "            width=\"700\"\n",
        "            height=500\"\n",
        "            src=\"https://www.youtube.com/embed/dvoHB9djouc\"\n",
        "            frameborder=\"0\"\n",
        "            allowfullscreen\n",
        "        ></iframe>\n",
        "        "
       ],
       "metadata": {},
       "output_type": "pyout",
       "prompt_number": 109,
       "text": [
        "<IPython.lib.display.YouTubeVideo at 0x10805e6d0>"
       ]
      }
     ],
     "prompt_number": 109
    },
    {
     "cell_type": "markdown",
     "metadata": {},
     "source": [
      "Variance as a measure of average, how far the data points in a population are from the population mean. 'N' is the total population.\n",
      "\n",
      "$$\n",
      "\\begin{align*}\n",
      "mean = \\mu = \\frac{\\displaystyle\\sum_{i=1}^{N} x^2} {N} = \\\n",
      "\\frac{x_1 + x_2 + x_3 + x_4 + x_5} 5 \n",
      "\\end{align*}\n",
      "$$"
     ]
    },
    {
     "cell_type": "code",
     "collapsed": false,
     "input": [
      "sample = [1, 3, 5, 7, 14]\n",
      "population_mean = sum(sample)/len(sample)\n",
      "print \"Population mean =\", population_mean"
     ],
     "language": "python",
     "metadata": {},
     "outputs": [
      {
       "output_type": "stream",
       "stream": "stdout",
       "text": [
        "Population mean = 6\n"
       ]
      }
     ],
     "prompt_number": 123
    },
    {
     "cell_type": "markdown",
     "metadata": {},
     "source": [
      "$$\\begin{align*}variance  = \\sigma^2 = \\frac{\\displaystyle\\sum_{i=1}^{N} (x_i - \\mu)^2} {N}\n",
      "\\end{align*}$$\n",
      "\n",
      "$\\mu =$ population mean"
     ]
    },
    {
     "cell_type": "code",
     "collapsed": false,
     "input": [
      "def population_variance(population):\n",
      "    mean = np.mean(population)\n",
      "    pv = sum([(float(i) - mean)**2 for i in population]) / len(population)\n",
      "    return pv\n",
      "population_variance(sample)"
     ],
     "language": "python",
     "metadata": {},
     "outputs": [
      {
       "metadata": {},
       "output_type": "pyout",
       "prompt_number": 124,
       "text": [
        "20.0"
       ]
      }
     ],
     "prompt_number": 124
    },
    {
     "cell_type": "markdown",
     "metadata": {},
     "source": [
      "# Sample Variance"
     ]
    },
    {
     "cell_type": "code",
     "collapsed": false,
     "input": [
      "YouTubeVideo('iHXdzfF7UEs', width=700, height=500)"
     ],
     "language": "python",
     "metadata": {},
     "outputs": [
      {
       "html": [
        "\n",
        "        <iframe\n",
        "            width=\"700\"\n",
        "            height=500\"\n",
        "            src=\"https://www.youtube.com/embed/iHXdzfF7UEs\"\n",
        "            frameborder=\"0\"\n",
        "            allowfullscreen\n",
        "        ></iframe>\n",
        "        "
       ],
       "metadata": {},
       "output_type": "pyout",
       "prompt_number": 112,
       "text": [
        "<IPython.lib.display.YouTubeVideo at 0x108036b10>"
       ]
      }
     ],
     "prompt_number": 112
    },
    {
     "cell_type": "markdown",
     "metadata": {},
     "source": [
      "### TV Watching\n",
      "Population of TV watchers ~300 million (&mu;)\n",
      "Take a sample.\n",
      "What is the sample mean?\n",
      "\n",
      "$$\n",
      "mean = {\\bar x} = \\frac{\\displaystyle\\sum_{i=1}^{n} x_i} {n}\n",
      "$$"
     ]
    },
    {
     "cell_type": "code",
     "collapsed": false,
     "input": [
      "# Hours of television\n",
      "sample = [1.5, 4, 1, 2.5, 2, 1]\n",
      "print 'mean: %s' % np.mean(sample)\n",
      "print 'variance: %s' % population_variance(sample)"
     ],
     "language": "python",
     "metadata": {},
     "outputs": [
      {
       "output_type": "stream",
       "stream": "stdout",
       "text": [
        "mean: 2.0\n",
        "variance: 1.08333333333\n"
       ]
      }
     ],
     "prompt_number": 125
    },
    {
     "cell_type": "markdown",
     "metadata": {},
     "source": [
      "Is this variance the best estimate we can make given the data we have?\n",
      "\n",
      "$$\n",
      "s^2_n =  \\frac{\\displaystyle\\sum_{i=1}^{n} (x_i - {\\bar x})^2} {n}\n",
      "$$\n",
      "\n",
      "Unbiased sample variance:\n",
      "\n",
      "$$\n",
      "s^2 = s^2_{n-1} = \\frac{\\displaystyle\\sum_{i=1}^{n} (x_i - {\\bar x})^2} {n-1}\n",
      "$$"
     ]
    },
    {
     "cell_type": "code",
     "collapsed": false,
     "input": [
      "def unbiased_variance(sample):\n",
      "    mean = np.mean(sample)\n",
      "    pv = sum([(float(i) - mean)**2 for i in sample]) / (len(sample) - 1)\n",
      "    return pv\n",
      "print 'sample variance: %s' % unbiased_variance(sample)"
     ],
     "language": "python",
     "metadata": {},
     "outputs": [
      {
       "output_type": "stream",
       "stream": "stdout",
       "text": [
        "sample variance: 1.3\n"
       ]
      }
     ],
     "prompt_number": 114
    },
    {
     "cell_type": "markdown",
     "metadata": {},
     "source": [
      "## Review and intuition why we divide by n-1 for the unbiaed sample variance"
     ]
    },
    {
     "cell_type": "markdown",
     "metadata": {},
     "source": [
      "N = Total Population\n",
      "\n",
      "n = Sample population\n",
      "\n",
      "Population Mean (parameter):\n",
      "$$\n",
      "\\mu = \\frac{\\displaystyle\\sum_{i=1}^{N} x^2} {N}\n",
      "$$\n",
      "\n",
      "Sample Mean (statistic):\n",
      "$$\n",
      "{\\bar x} = \\frac{\\displaystyle\\sum_{i=1}^{n} x_i} {n}\n",
      "$$\n",
      "\n",
      "Population variance (parameter):\n",
      "$$\n",
      "\\sigma^2 = \\frac{\\displaystyle\\sum_{i=1}^{N} (x_i - \\mu)^2} {N}\n",
      "$$\n",
      "\n",
      "Sample variance estimate (statistic):\n",
      "$$\n",
      "s^2_n =  \\frac{\\displaystyle\\sum_{i=1}^{n} (x_i - {\\bar x})^2} {n}\n",
      "$$\n",
      "\n",
      "Unbiased sample variance estimate:\n",
      "$$\n",
      "s^2 = s^2_{n-1} = \\frac{\\displaystyle\\sum_{i=1}^{n} (x_i - {\\bar x})^2} {n-1}\n",
      "$$\n",
      "\n",
      "When you divide by a smaller number, e.g. n-1, you will get a larger value. If you have to guess, they are probably talking about the unbiased estimate. With a larger sample, decreasing the denominator by 1 will have a smaller effect.\n",
      "\n",
      "When using sample variance we are approaching a biased estimate:\n",
      "\n",
      "$$\n",
      "mean = {\\bar x} = \\frac{\\displaystyle\\sum_{i=1}^{n} x_i} {n} => \\\\\n",
      "\\frac{(n-1)\\sigma^2} {n} = \\sigma^2\n",
      "$$\n",
      "\n",
      "$$\n",
      "variance = s^2_{n-1} = \\frac{\\displaystyle\\sum_{i=1}^{n} (x_i - {\\bar x})^2} {n-1}\n",
      "$$\n",
      "\n",
      "Here's an explanation..."
     ]
    },
    {
     "cell_type": "code",
     "collapsed": false,
     "input": [
      "YouTubeVideo('KkaU2ur3Ymw', width=700, height=500)"
     ],
     "language": "python",
     "metadata": {},
     "outputs": [
      {
       "html": [
        "\n",
        "        <iframe\n",
        "            width=\"700\"\n",
        "            height=500\"\n",
        "            src=\"https://www.youtube.com/embed/KkaU2ur3Ymw\"\n",
        "            frameborder=\"0\"\n",
        "            allowfullscreen\n",
        "        ></iframe>\n",
        "        "
       ],
       "metadata": {},
       "output_type": "pyout",
       "prompt_number": 115,
       "text": [
        "<IPython.lib.display.YouTubeVideo at 0x10801e050>"
       ]
      }
     ],
     "prompt_number": 115
    },
    {
     "cell_type": "markdown",
     "metadata": {},
     "source": [
      "##Variance Problem Set\n",
      "\n",
      "\n",
      "You have found the following ages (in years) of all 6 lizards at your local zoo:\n",
      "\n",
      "8, 10, 16, 2, 23, 4\n",
      "\n",
      "What is the average age of the lizards at your zoo? What is the variance?\n",
      "Round your answers to the nearest tenth. \n",
      "###Population variance"
     ]
    },
    {
     "cell_type": "code",
     "collapsed": false,
     "input": [
      "sample = [8,10,16,2,23,4]\n",
      "print '%.2f years old' % np.mean(sample)\n",
      "print '%.2f years^2' % population_variance(sample)"
     ],
     "language": "python",
     "metadata": {},
     "outputs": [
      {
       "output_type": "stream",
       "stream": "stdout",
       "text": [
        "10.50 years old\n",
        "51.25 years^2\n"
       ]
      }
     ],
     "prompt_number": 126
    },
    {
     "cell_type": "code",
     "collapsed": false,
     "input": [
      "sample = [30,17,1,3,11]\n",
      "print '%.2f years old' % np.mean(sample)\n",
      "print '%.2f years^2' % unbiased_variance(sample)"
     ],
     "language": "python",
     "metadata": {},
     "outputs": [
      {
       "output_type": "stream",
       "stream": "stdout",
       "text": [
        "12.40 years old\n",
        "137.80 years^2\n"
       ]
      }
     ],
     "prompt_number": 127
    },
    {
     "cell_type": "markdown",
     "metadata": {},
     "source": [
      "#Standard Deviation"
     ]
    },
    {
     "cell_type": "code",
     "collapsed": false,
     "input": [
      "YouTubeVideo('HvDqbzu0i0E', width=700, height=500)"
     ],
     "language": "python",
     "metadata": {},
     "outputs": [
      {
       "html": [
        "\n",
        "        <iframe\n",
        "            width=\"700\"\n",
        "            height=500\"\n",
        "            src=\"https://www.youtube.com/embed/HvDqbzu0i0E\"\n",
        "            frameborder=\"0\"\n",
        "            allowfullscreen\n",
        "        ></iframe>\n",
        "        "
       ],
       "metadata": {},
       "output_type": "pyout",
       "prompt_number": 118,
       "text": [
        "<IPython.lib.display.YouTubeVideo at 0x10805e250>"
       ]
      }
     ],
     "prompt_number": 118
    },
    {
     "cell_type": "code",
     "collapsed": false,
     "input": [
      "sample = [1, 2, 3, 8, 7]"
     ],
     "language": "python",
     "metadata": {},
     "outputs": [],
     "prompt_number": 119
    },
    {
     "cell_type": "markdown",
     "metadata": {},
     "source": [
      "$$\n",
      "mean = {\\mu} = \\frac{1 + 2 + 3 + 8 + 7} {5} = 4.2\n",
      "$$\n",
      "$$\n",
      "Population~variance = {\\sigma^2} = \\frac{(1 - 4.2)^2 + (2 - 4.2)^2 + (3 - 4.2)^2 + (8 - 4.2)^2 + (7 - 4.2)^2} {5} = 7.76\n",
      "$$\n",
      "$$\n",
      "Unbiased~variance = {s^2_{n\u22121}} = \\frac{(1 - 4.2)^2 + (2 - 4.2)^2 + (3 - 4.2)^2 + (8 - 4.2)^2 + (7 - 4.2)^2} {4} = 9.70\n",
      "$$"
     ]
    },
    {
     "cell_type": "markdown",
     "metadata": {},
     "source": [
      "Standard deviation is simply the square root of the variance.\n"
     ]
    },
    {
     "cell_type": "code",
     "collapsed": false,
     "input": [
      "sqrt(7.76)"
     ],
     "language": "python",
     "metadata": {},
     "outputs": [
      {
       "metadata": {},
       "output_type": "pyout",
       "prompt_number": 128,
       "text": [
        "2.7856776554368237"
       ]
      }
     ],
     "prompt_number": 128
    },
    {
     "cell_type": "markdown",
     "metadata": {},
     "source": [
      "##Standard Deviation Problem Set\n",
      "\n",
      "\n",
      "You have found the following ages (in years) of all 6 lizards at your local zoo:\n",
      "\n",
      "30,17,1,3,11\n",
      "\n",
      "What is the average age of the lizards at your zoo? What is the standard deviation? Round your answers to the nearest tenth. "
     ]
    },
    {
     "cell_type": "code",
     "collapsed": false,
     "input": [
      "sample = [30,17,1,3,11]\n",
      "mean = np.mean([float(i) for i in sample])\n",
      "print 'Mean = %.2f' % mean\n",
      "v = unbiased_variance([float(i) for i in sample])\n",
      "print 'Unbiased Variance = %.2f' % v\n",
      "print 'Standard Deviation = %.2f' % math.sqrt(v)"
     ],
     "language": "python",
     "metadata": {},
     "outputs": [
      {
       "output_type": "stream",
       "stream": "stdout",
       "text": [
        "Mean = 12.40\n",
        "Unbiased Variance = 137.80\n",
        "Standard Deviation = 11.74\n"
       ]
      }
     ],
     "prompt_number": 132
    },
    {
     "cell_type": "code",
     "collapsed": false,
     "input": [
      "df = pd.DataFrame({'age': pd.Series(sample)})\n",
      "df.describe()"
     ],
     "language": "python",
     "metadata": {},
     "outputs": [
      {
       "html": [
        "<div style=\"max-height:1000px;max-width:1500px;overflow:auto;\">\n",
        "<table border=\"1\" class=\"dataframe\">\n",
        "  <thead>\n",
        "    <tr style=\"text-align: right;\">\n",
        "      <th></th>\n",
        "      <th>age</th>\n",
        "    </tr>\n",
        "  </thead>\n",
        "  <tbody>\n",
        "    <tr>\n",
        "      <th>count</th>\n",
        "      <td>  5.000000</td>\n",
        "    </tr>\n",
        "    <tr>\n",
        "      <th>mean</th>\n",
        "      <td> 12.400000</td>\n",
        "    </tr>\n",
        "    <tr>\n",
        "      <th>std</th>\n",
        "      <td> 11.738824</td>\n",
        "    </tr>\n",
        "    <tr>\n",
        "      <th>min</th>\n",
        "      <td>  1.000000</td>\n",
        "    </tr>\n",
        "    <tr>\n",
        "      <th>25%</th>\n",
        "      <td>  3.000000</td>\n",
        "    </tr>\n",
        "    <tr>\n",
        "      <th>50%</th>\n",
        "      <td> 11.000000</td>\n",
        "    </tr>\n",
        "    <tr>\n",
        "      <th>75%</th>\n",
        "      <td> 17.000000</td>\n",
        "    </tr>\n",
        "    <tr>\n",
        "      <th>max</th>\n",
        "      <td> 30.000000</td>\n",
        "    </tr>\n",
        "  </tbody>\n",
        "</table>\n",
        "<p>8 rows \u00d7 1 columns</p>\n",
        "</div>"
       ],
       "metadata": {},
       "output_type": "pyout",
       "prompt_number": 136,
       "text": [
        "             age\n",
        "count   5.000000\n",
        "mean   12.400000\n",
        "std    11.738824\n",
        "min     1.000000\n",
        "25%     3.000000\n",
        "50%    11.000000\n",
        "75%    17.000000\n",
        "max    30.000000\n",
        "\n",
        "[8 rows x 1 columns]"
       ]
      }
     ],
     "prompt_number": 136
    },
    {
     "cell_type": "code",
     "collapsed": false,
     "input": [
      "df.age.std()"
     ],
     "language": "python",
     "metadata": {},
     "outputs": [
      {
       "metadata": {},
       "output_type": "pyout",
       "prompt_number": 137,
       "text": [
        "11.738824472663351"
       ]
      }
     ],
     "prompt_number": 137
    },
    {
     "cell_type": "markdown",
     "metadata": {},
     "source": [
      "#Exercise\n",
      "\n",
      "Compare the standard deviations between min and max temperatures and conclude which is more disperse."
     ]
    },
    {
     "cell_type": "code",
     "collapsed": false,
     "input": [
      "weather.head()"
     ],
     "language": "python",
     "metadata": {},
     "outputs": [
      {
       "html": [
        "<div style=\"max-height:1000px;max-width:1500px;overflow:auto;\">\n",
        "<table border=\"1\" class=\"dataframe\">\n",
        "  <thead>\n",
        "    <tr style=\"text-align: right;\">\n",
        "      <th></th>\n",
        "      <th>EDT</th>\n",
        "      <th>Max TemperatureF</th>\n",
        "      <th>Mean TemperatureF</th>\n",
        "      <th>Min TemperatureF</th>\n",
        "      <th>Max Dew PointF</th>\n",
        "      <th>MeanDew PointF</th>\n",
        "      <th>Min DewpointF</th>\n",
        "      <th>Max Humidity</th>\n",
        "      <th> Mean Humidity</th>\n",
        "      <th> Min Humidity</th>\n",
        "      <th> Max Sea Level PressureIn</th>\n",
        "      <th> Mean Sea Level PressureIn</th>\n",
        "      <th> Min Sea Level PressureIn</th>\n",
        "      <th> Max VisibilityMiles</th>\n",
        "      <th> Mean VisibilityMiles</th>\n",
        "      <th> Min VisibilityMiles</th>\n",
        "      <th> Max Wind SpeedMPH</th>\n",
        "      <th> Mean Wind SpeedMPH</th>\n",
        "      <th> Max Gust SpeedMPH</th>\n",
        "      <th>PrecipitationIn</th>\n",
        "      <th></th>\n",
        "    </tr>\n",
        "  </thead>\n",
        "  <tbody>\n",
        "    <tr>\n",
        "      <th>0</th>\n",
        "      <td> 2012-3-10</td>\n",
        "      <td> 56</td>\n",
        "      <td> 40</td>\n",
        "      <td> 24</td>\n",
        "      <td> 24</td>\n",
        "      <td> 20</td>\n",
        "      <td> 16</td>\n",
        "      <td> 74</td>\n",
        "      <td> 50</td>\n",
        "      <td> 26</td>\n",
        "      <td> 30.53</td>\n",
        "      <td> 30.45</td>\n",
        "      <td> 30.34</td>\n",
        "      <td> 10</td>\n",
        "      <td> 10</td>\n",
        "      <td> 10</td>\n",
        "      <td> 13</td>\n",
        "      <td>  6</td>\n",
        "      <td> 17</td>\n",
        "      <td> 0.00</td>\n",
        "      <td>...</td>\n",
        "    </tr>\n",
        "    <tr>\n",
        "      <th>1</th>\n",
        "      <td> 2012-3-11</td>\n",
        "      <td> 67</td>\n",
        "      <td> 49</td>\n",
        "      <td> 30</td>\n",
        "      <td> 43</td>\n",
        "      <td> 31</td>\n",
        "      <td> 24</td>\n",
        "      <td> 78</td>\n",
        "      <td> 53</td>\n",
        "      <td> 28</td>\n",
        "      <td> 30.37</td>\n",
        "      <td> 30.27</td>\n",
        "      <td> 30.13</td>\n",
        "      <td> 10</td>\n",
        "      <td> 10</td>\n",
        "      <td> 10</td>\n",
        "      <td> 22</td>\n",
        "      <td>  7</td>\n",
        "      <td> 32</td>\n",
        "      <td>    T</td>\n",
        "      <td>...</td>\n",
        "    </tr>\n",
        "    <tr>\n",
        "      <th>2</th>\n",
        "      <td> 2012-3-12</td>\n",
        "      <td> 71</td>\n",
        "      <td> 62</td>\n",
        "      <td> 53</td>\n",
        "      <td> 59</td>\n",
        "      <td> 55</td>\n",
        "      <td> 43</td>\n",
        "      <td> 90</td>\n",
        "      <td> 76</td>\n",
        "      <td> 61</td>\n",
        "      <td> 30.13</td>\n",
        "      <td> 29.99</td>\n",
        "      <td> 29.88</td>\n",
        "      <td> 10</td>\n",
        "      <td> 10</td>\n",
        "      <td>  6</td>\n",
        "      <td> 24</td>\n",
        "      <td> 14</td>\n",
        "      <td> 36</td>\n",
        "      <td> 0.03</td>\n",
        "      <td>...</td>\n",
        "    </tr>\n",
        "    <tr>\n",
        "      <th>3</th>\n",
        "      <td> 2012-3-13</td>\n",
        "      <td> 76</td>\n",
        "      <td> 63</td>\n",
        "      <td> 50</td>\n",
        "      <td> 57</td>\n",
        "      <td> 53</td>\n",
        "      <td> 47</td>\n",
        "      <td> 93</td>\n",
        "      <td> 66</td>\n",
        "      <td> 38</td>\n",
        "      <td> 30.12</td>\n",
        "      <td> 30.06</td>\n",
        "      <td> 29.97</td>\n",
        "      <td> 10</td>\n",
        "      <td> 10</td>\n",
        "      <td>  4</td>\n",
        "      <td> 16</td>\n",
        "      <td>  5</td>\n",
        "      <td> 24</td>\n",
        "      <td> 0.00</td>\n",
        "      <td>...</td>\n",
        "    </tr>\n",
        "    <tr>\n",
        "      <th>4</th>\n",
        "      <td> 2012-3-14</td>\n",
        "      <td> 80</td>\n",
        "      <td> 62</td>\n",
        "      <td> 44</td>\n",
        "      <td> 58</td>\n",
        "      <td> 52</td>\n",
        "      <td> 43</td>\n",
        "      <td> 93</td>\n",
        "      <td> 68</td>\n",
        "      <td> 42</td>\n",
        "      <td> 30.15</td>\n",
        "      <td> 30.10</td>\n",
        "      <td> 30.04</td>\n",
        "      <td> 10</td>\n",
        "      <td> 10</td>\n",
        "      <td> 10</td>\n",
        "      <td> 16</td>\n",
        "      <td>  6</td>\n",
        "      <td> 22</td>\n",
        "      <td> 0.00</td>\n",
        "      <td>...</td>\n",
        "    </tr>\n",
        "  </tbody>\n",
        "</table>\n",
        "<p>5 rows \u00d7 23 columns</p>\n",
        "</div>"
       ],
       "metadata": {},
       "output_type": "pyout",
       "prompt_number": 139,
       "text": [
        "         EDT  Max TemperatureF  Mean TemperatureF  Min TemperatureF  \\\n",
        "0  2012-3-10                56                 40                24   \n",
        "1  2012-3-11                67                 49                30   \n",
        "2  2012-3-12                71                 62                53   \n",
        "3  2012-3-13                76                 63                50   \n",
        "4  2012-3-14                80                 62                44   \n",
        "\n",
        "   Max Dew PointF  MeanDew PointF  Min DewpointF  Max Humidity  \\\n",
        "0              24              20             16            74   \n",
        "1              43              31             24            78   \n",
        "2              59              55             43            90   \n",
        "3              57              53             47            93   \n",
        "4              58              52             43            93   \n",
        "\n",
        "    Mean Humidity   Min Humidity   Max Sea Level PressureIn  \\\n",
        "0              50             26                      30.53   \n",
        "1              53             28                      30.37   \n",
        "2              76             61                      30.13   \n",
        "3              66             38                      30.12   \n",
        "4              68             42                      30.15   \n",
        "\n",
        "    Mean Sea Level PressureIn   Min Sea Level PressureIn  \\\n",
        "0                       30.45                      30.34   \n",
        "1                       30.27                      30.13   \n",
        "2                       29.99                      29.88   \n",
        "3                       30.06                      29.97   \n",
        "4                       30.10                      30.04   \n",
        "\n",
        "    Max VisibilityMiles   Mean VisibilityMiles   Min VisibilityMiles  \\\n",
        "0                    10                     10                    10   \n",
        "1                    10                     10                    10   \n",
        "2                    10                     10                     6   \n",
        "3                    10                     10                     4   \n",
        "4                    10                     10                    10   \n",
        "\n",
        "    Max Wind SpeedMPH   Mean Wind SpeedMPH   Max Gust SpeedMPH  \\\n",
        "0                  13                    6                  17   \n",
        "1                  22                    7                  32   \n",
        "2                  24                   14                  36   \n",
        "3                  16                    5                  24   \n",
        "4                  16                    6                  22   \n",
        "\n",
        "  PrecipitationIn      \n",
        "0            0.00 ...  \n",
        "1               T ...  \n",
        "2            0.03 ...  \n",
        "3            0.00 ...  \n",
        "4            0.00 ...  \n",
        "\n",
        "[5 rows x 23 columns]"
       ]
      }
     ],
     "prompt_number": 139
    },
    {
     "cell_type": "code",
     "collapsed": false,
     "input": [],
     "language": "python",
     "metadata": {},
     "outputs": []
    },
    {
     "cell_type": "markdown",
     "metadata": {},
     "source": [
      "# Glossary of Terms and Symbols\n",
      "- Boxplot: A graphic representation of the distribution of scores on a variable that includes the range, the median, and the interquartile range.\n",
      "- Interquartile range (IQR): The difference between the 75th percentile and 25th percentile scores in a distribution.\n",
      "- Range: The difference between the largest score and the smallest score of a distribution.\n",
      "- Squared deviation: The difference between an individual score in a distribution and the mean for the distribution, squared.\n",
      "- Standard deviation: The average deviation between the individual scores in the distribution and the mean for the distribution. \n",
      "- Sum of squared deviations, sum of squares: The sum of each squared deviation for all of the cases in the sample.\n",
      "- Variance: The sum of the squared deviations divided by the number of cases in the population, or by the number of cases minus one in the sample.\n",
      "\n",
      "\u03bc: The population mean.\n",
      "\n",
      "X: An individual score in a distribution.\n",
      "\n",
      "s^2: The sample variance.\n",
      "\n",
      "s: The sample standard deviation.\n",
      "\n",
      "\u03c3: The population standard deviation.\n",
      "\n",
      "\u03c3^2: The population variance.\n",
      "\n",
      "SS: The sum of squares, or sum of squared deviations.\n",
      "\n",
      "n: The number of cases in the sample.\n",
      "\n",
      "N: The number of cases in the population."
     ]
    },
    {
     "cell_type": "markdown",
     "metadata": {},
     "source": [
      "#Resources\n",
      "- [Statistics in Plain English - Timothy Urdan](http://students.ceid.upatras.gr/~aggelidis/stats/Statistics%20in%20Plain%20English,%20Third%20Edition%20by%20Timothy%20C.%20Urdan%20%28May%2025,%202010%29.pdf)\n",
      "- [Khan Academy - Descriptive Statistics (IPython notebook)](http://nbviewer.ipython.org/github/kenbolton/khan-academy-probability-statistics-ipynb/blob/master/Khan%20Academy%20-%20Descriptive%20Statistics.ipynb)\n",
      "- [ASQ - Box and Whisker Plot](http://asq.org/learn-about-quality/data-collection-analysis-tools/overview/box-whisker-plot.html)\n"
     ]
    },
    {
     "cell_type": "code",
     "collapsed": false,
     "input": [],
     "language": "python",
     "metadata": {},
     "outputs": [],
     "prompt_number": 122
    }
   ],
   "metadata": {}
  }
 ]
}